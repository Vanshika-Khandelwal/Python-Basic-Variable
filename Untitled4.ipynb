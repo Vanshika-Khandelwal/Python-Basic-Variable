{
 "cells": [
  {
   "cell_type": "code",
   "execution_count": 3,
   "id": "cb376b14-2854-461c-b746-9f13487327e8",
   "metadata": {},
   "outputs": [],
   "source": [
    "a = 10"
   ]
  },
  {
   "cell_type": "code",
   "execution_count": 4,
   "id": "06b83da3-bc8e-4ba1-9dde-63566813517d",
   "metadata": {},
   "outputs": [
    {
     "data": {
      "text/plain": [
       "10"
      ]
     },
     "execution_count": 4,
     "metadata": {},
     "output_type": "execute_result"
    }
   ],
   "source": [
    "a"
   ]
  },
  {
   "cell_type": "code",
   "execution_count": 1,
   "id": "fefac3fd-abb9-4ca2-823d-256086e77bde",
   "metadata": {},
   "outputs": [],
   "source": [
    "vans= 12332893"
   ]
  },
  {
   "cell_type": "code",
   "execution_count": 2,
   "id": "21a18a15-68a4-41cf-acfa-e821f42f5fe1",
   "metadata": {},
   "outputs": [
    {
     "data": {
      "text/plain": [
       "12332893"
      ]
     },
     "execution_count": 2,
     "metadata": {},
     "output_type": "execute_result"
    }
   ],
   "source": [
    "vans"
   ]
  },
  {
   "cell_type": "code",
   "execution_count": 5,
   "id": "891c58c0-0fc4-4ad1-a02a-78e317449d31",
   "metadata": {},
   "outputs": [
    {
     "data": {
      "text/plain": [
       "int"
      ]
     },
     "execution_count": 5,
     "metadata": {},
     "output_type": "execute_result"
    }
   ],
   "source": [
    "type(a)"
   ]
  },
  {
   "cell_type": "code",
   "execution_count": 6,
   "id": "ef2b4127-c1ec-4bf3-afa7-8a2f3469910e",
   "metadata": {},
   "outputs": [
    {
     "data": {
      "text/plain": [
       "int"
      ]
     },
     "execution_count": 6,
     "metadata": {},
     "output_type": "execute_result"
    }
   ],
   "source": [
    "type(vans)"
   ]
  },
  {
   "cell_type": "code",
   "execution_count": 7,
   "id": "3c07a036-20fc-4e67-bb6e-f1c6bdc1b85e",
   "metadata": {},
   "outputs": [],
   "source": [
    "s = 'pwskills'"
   ]
  },
  {
   "cell_type": "code",
   "execution_count": 8,
   "id": "7e8e990b-a857-48ad-9473-cba15fe30f80",
   "metadata": {},
   "outputs": [
    {
     "data": {
      "text/plain": [
       "str"
      ]
     },
     "execution_count": 8,
     "metadata": {},
     "output_type": "execute_result"
    }
   ],
   "source": [
    "type(s)"
   ]
  },
  {
   "cell_type": "code",
   "execution_count": 9,
   "id": "9f10ef1b-a5cc-4901-a763-635a945b16bb",
   "metadata": {},
   "outputs": [
    {
     "data": {
      "text/plain": [
       "'pwskills'"
      ]
     },
     "execution_count": 9,
     "metadata": {},
     "output_type": "execute_result"
    }
   ],
   "source": [
    "s"
   ]
  },
  {
   "cell_type": "code",
   "execution_count": 12,
   "id": "12954d0b-9326-45b1-a85a-34c36a0bf609",
   "metadata": {},
   "outputs": [],
   "source": [
    "s1 = \"this is my first python lecture\""
   ]
  },
  {
   "cell_type": "code",
   "execution_count": 13,
   "id": "fbc5b749-dd01-4f8a-8db9-af559f6b6212",
   "metadata": {},
   "outputs": [
    {
     "data": {
      "text/plain": [
       "'this is my first python lecture'"
      ]
     },
     "execution_count": 13,
     "metadata": {},
     "output_type": "execute_result"
    }
   ],
   "source": [
    "s1"
   ]
  },
  {
   "cell_type": "code",
   "execution_count": 14,
   "id": "5a9755e1-9e98-4b05-a98c-7d015c5540a1",
   "metadata": {},
   "outputs": [
    {
     "data": {
      "text/plain": [
       "str"
      ]
     },
     "execution_count": 14,
     "metadata": {},
     "output_type": "execute_result"
    }
   ],
   "source": [
    "type(s1)"
   ]
  },
  {
   "cell_type": "code",
   "execution_count": 15,
   "id": "b3bbe526-dbba-4028-85b0-776282d40832",
   "metadata": {},
   "outputs": [],
   "source": [
    "f = 122.4333"
   ]
  },
  {
   "cell_type": "code",
   "execution_count": 16,
   "id": "35f7fa63-c68d-491b-9de0-2d623644bdc4",
   "metadata": {},
   "outputs": [
    {
     "data": {
      "text/plain": [
       "float"
      ]
     },
     "execution_count": 16,
     "metadata": {},
     "output_type": "execute_result"
    }
   ],
   "source": [
    "type(f)"
   ]
  },
  {
   "cell_type": "code",
   "execution_count": 17,
   "id": "fa01c856-b8cb-46f5-a466-b1e057e1fa78",
   "metadata": {},
   "outputs": [],
   "source": [
    "c = 5+6j"
   ]
  },
  {
   "cell_type": "code",
   "execution_count": 18,
   "id": "a1f00a83-b82c-4df6-9515-64d5f1a21fa7",
   "metadata": {},
   "outputs": [
    {
     "data": {
      "text/plain": [
       "complex"
      ]
     },
     "execution_count": 18,
     "metadata": {},
     "output_type": "execute_result"
    }
   ],
   "source": [
    "type(c)"
   ]
  },
  {
   "cell_type": "code",
   "execution_count": 19,
   "id": "de0425c5-0402-442e-9701-cb5746830e8a",
   "metadata": {},
   "outputs": [
    {
     "data": {
      "text/plain": [
       "5.0"
      ]
     },
     "execution_count": 19,
     "metadata": {},
     "output_type": "execute_result"
    }
   ],
   "source": [
    "c.real"
   ]
  },
  {
   "cell_type": "code",
   "execution_count": 21,
   "id": "897dfa54-6da3-4969-b83a-160fc5790ce4",
   "metadata": {},
   "outputs": [
    {
     "data": {
      "text/plain": [
       "6.0"
      ]
     },
     "execution_count": 21,
     "metadata": {},
     "output_type": "execute_result"
    }
   ],
   "source": [
    "c.imag"
   ]
  },
  {
   "cell_type": "code",
   "execution_count": 22,
   "id": "a195a88c-7709-4edb-8bd8-df73dcf2b1a9",
   "metadata": {},
   "outputs": [],
   "source": [
    "b = True"
   ]
  },
  {
   "cell_type": "code",
   "execution_count": 23,
   "id": "d97a2f8f-546d-4801-8975-70f9e054ecd9",
   "metadata": {},
   "outputs": [
    {
     "data": {
      "text/plain": [
       "bool"
      ]
     },
     "execution_count": 23,
     "metadata": {},
     "output_type": "execute_result"
    }
   ],
   "source": [
    "type(b)"
   ]
  },
  {
   "cell_type": "code",
   "execution_count": 24,
   "id": "1d99395a-9028-44ee-8a08-188c179f1447",
   "metadata": {},
   "outputs": [],
   "source": [
    "b1 = False"
   ]
  },
  {
   "cell_type": "code",
   "execution_count": 25,
   "id": "bb8c823c-31c3-48ae-9edb-b6405db793b9",
   "metadata": {},
   "outputs": [
    {
     "data": {
      "text/plain": [
       "False"
      ]
     },
     "execution_count": 25,
     "metadata": {},
     "output_type": "execute_result"
    }
   ],
   "source": [
    "b1"
   ]
  },
  {
   "cell_type": "code",
   "execution_count": 26,
   "id": "bbb07e28-6dbd-4ea2-a4d7-8c8df71fb96b",
   "metadata": {},
   "outputs": [
    {
     "data": {
      "text/plain": [
       "bool"
      ]
     },
     "execution_count": 26,
     "metadata": {},
     "output_type": "execute_result"
    }
   ],
   "source": [
    "type(b1)"
   ]
  },
  {
   "cell_type": "code",
   "execution_count": 27,
   "id": "83a12ebb-9ffd-438b-af4d-bc98086e9e8a",
   "metadata": {},
   "outputs": [],
   "source": [
    "a1 = 45\n",
    "a2 = 67"
   ]
  },
  {
   "cell_type": "code",
   "execution_count": 28,
   "id": "9dad704a-6d3a-4cf4-9ff9-630a58e200f4",
   "metadata": {},
   "outputs": [
    {
     "data": {
      "text/plain": [
       "112"
      ]
     },
     "execution_count": 28,
     "metadata": {},
     "output_type": "execute_result"
    }
   ],
   "source": [
    "a1+a2"
   ]
  },
  {
   "cell_type": "code",
   "execution_count": 29,
   "id": "dd176eb5-504f-43b2-bfc7-ad2ae85fbcbe",
   "metadata": {},
   "outputs": [
    {
     "data": {
      "text/plain": [
       "-22"
      ]
     },
     "execution_count": 29,
     "metadata": {},
     "output_type": "execute_result"
    }
   ],
   "source": [
    "a1-a2"
   ]
  },
  {
   "cell_type": "code",
   "execution_count": 30,
   "id": "7ee63476-bf44-49ec-95e6-9ba283c151c0",
   "metadata": {},
   "outputs": [
    {
     "data": {
      "text/plain": [
       "3015"
      ]
     },
     "execution_count": 30,
     "metadata": {},
     "output_type": "execute_result"
    }
   ],
   "source": [
    "a1*a2"
   ]
  },
  {
   "cell_type": "code",
   "execution_count": 31,
   "id": "d29fc4c7-2b4c-4a10-8aa5-14b45aabc40b",
   "metadata": {},
   "outputs": [
    {
     "data": {
      "text/plain": [
       "0.6716417910447762"
      ]
     },
     "execution_count": 31,
     "metadata": {},
     "output_type": "execute_result"
    }
   ],
   "source": [
    "a1/a2"
   ]
  },
  {
   "cell_type": "code",
   "execution_count": 32,
   "id": "3716c1fb-8907-4020-9a18-dd602dc6bbad",
   "metadata": {},
   "outputs": [],
   "source": [
    "a1,a2 = 34,45"
   ]
  },
  {
   "cell_type": "code",
   "execution_count": 33,
   "id": "e00462c8-47ec-4e91-bf83-41b71711c1ae",
   "metadata": {},
   "outputs": [
    {
     "data": {
      "text/plain": [
       "34"
      ]
     },
     "execution_count": 33,
     "metadata": {},
     "output_type": "execute_result"
    }
   ],
   "source": [
    "a1"
   ]
  },
  {
   "cell_type": "code",
   "execution_count": 34,
   "id": "7acee993-46fc-4b51-b99c-eedb40b17c02",
   "metadata": {},
   "outputs": [
    {
     "data": {
      "text/plain": [
       "45"
      ]
     },
     "execution_count": 34,
     "metadata": {},
     "output_type": "execute_result"
    }
   ],
   "source": [
    "a2"
   ]
  },
  {
   "cell_type": "code",
   "execution_count": 35,
   "id": "88712a88-fcc1-4628-bfa4-00557c52f5e7",
   "metadata": {},
   "outputs": [],
   "source": [
    "b1 = True"
   ]
  },
  {
   "cell_type": "code",
   "execution_count": 36,
   "id": "82db415b-f60a-430c-a065-688c76550030",
   "metadata": {},
   "outputs": [],
   "source": [
    "b2 = False"
   ]
  },
  {
   "cell_type": "code",
   "execution_count": 37,
   "id": "39d8a2cc-7956-4165-99c6-86ee6fbedfd5",
   "metadata": {},
   "outputs": [
    {
     "data": {
      "text/plain": [
       "1"
      ]
     },
     "execution_count": 37,
     "metadata": {},
     "output_type": "execute_result"
    }
   ],
   "source": [
    "b1-b2"
   ]
  },
  {
   "cell_type": "code",
   "execution_count": 38,
   "id": "ea745912-6890-44cb-880d-722583d4f292",
   "metadata": {},
   "outputs": [
    {
     "data": {
      "text/plain": [
       "-1"
      ]
     },
     "execution_count": 38,
     "metadata": {},
     "output_type": "execute_result"
    }
   ],
   "source": [
    "b2-b1"
   ]
  },
  {
   "cell_type": "code",
   "execution_count": 39,
   "id": "e90cf351-8b1b-454a-a0ce-1a0dcc4e6838",
   "metadata": {},
   "outputs": [
    {
     "data": {
      "text/plain": [
       "1"
      ]
     },
     "execution_count": 39,
     "metadata": {},
     "output_type": "execute_result"
    }
   ],
   "source": [
    "b1*b1"
   ]
  },
  {
   "cell_type": "code",
   "execution_count": 41,
   "id": "09f706bd-d07f-4bdf-824e-96f3030c3d16",
   "metadata": {},
   "outputs": [
    {
     "data": {
      "text/plain": [
       "0"
      ]
     },
     "execution_count": 41,
     "metadata": {},
     "output_type": "execute_result"
    }
   ],
   "source": [
    "b1*b2"
   ]
  },
  {
   "cell_type": "code",
   "execution_count": 42,
   "id": "e793db01-d714-4142-a913-058f1e250fe2",
   "metadata": {},
   "outputs": [],
   "source": [
    "s1 = \"my name is vanshika\""
   ]
  },
  {
   "cell_type": "code",
   "execution_count": 43,
   "id": "2b0b4cb9-761f-4038-b894-033848bdc65b",
   "metadata": {},
   "outputs": [
    {
     "data": {
      "text/plain": [
       "'my name is vanshika'"
      ]
     },
     "execution_count": 43,
     "metadata": {},
     "output_type": "execute_result"
    }
   ],
   "source": [
    "s1"
   ]
  },
  {
   "cell_type": "code",
   "execution_count": 44,
   "id": "06d8d683-327d-42d7-97e4-fae21d9b4fba",
   "metadata": {},
   "outputs": [
    {
     "data": {
      "text/plain": [
       "str"
      ]
     },
     "execution_count": 44,
     "metadata": {},
     "output_type": "execute_result"
    }
   ],
   "source": [
    "type(s1)"
   ]
  },
  {
   "cell_type": "code",
   "execution_count": 48,
   "id": "d0beda0a-a856-4a20-9833-5ad2948f1a5e",
   "metadata": {},
   "outputs": [],
   "source": [
    "s2 = \"this is my first python class's\""
   ]
  },
  {
   "cell_type": "code",
   "execution_count": 49,
   "id": "0fc17229-01a6-4d45-bf4c-9f91fe32977e",
   "metadata": {},
   "outputs": [
    {
     "data": {
      "text/plain": [
       "\"this is my first python class's\""
      ]
     },
     "execution_count": 49,
     "metadata": {},
     "output_type": "execute_result"
    }
   ],
   "source": [
    "s2"
   ]
  },
  {
   "cell_type": "code",
   "execution_count": 50,
   "id": "64d8d682-99dd-4fcf-b8e4-c0f930b12403",
   "metadata": {},
   "outputs": [],
   "source": [
    "s1 = \"vans\""
   ]
  },
  {
   "cell_type": "code",
   "execution_count": 51,
   "id": "53de95fa-0db0-41fb-8f9c-1cbabdf62ff8",
   "metadata": {},
   "outputs": [],
   "source": [
    "a = 10"
   ]
  },
  {
   "cell_type": "code",
   "execution_count": 52,
   "id": "87e9a1b3-5f85-42fa-8055-31599f2fc88f",
   "metadata": {},
   "outputs": [
    {
     "ename": "TypeError",
     "evalue": "can only concatenate str (not \"int\") to str",
     "output_type": "error",
     "traceback": [
      "\u001b[0;31m---------------------------------------------------------------------------\u001b[0m",
      "\u001b[0;31mTypeError\u001b[0m                                 Traceback (most recent call last)",
      "Cell \u001b[0;32mIn[52], line 1\u001b[0m\n\u001b[0;32m----> 1\u001b[0m \u001b[43ms1\u001b[49m\u001b[38;5;241;43m+\u001b[39;49m\u001b[43ma\u001b[49m\n",
      "\u001b[0;31mTypeError\u001b[0m: can only concatenate str (not \"int\") to str"
     ]
    }
   ],
   "source": [
    "s1+a"
   ]
  },
  {
   "cell_type": "code",
   "execution_count": 53,
   "id": "36b673ea-ef4c-4ab7-b7e2-a7c982ff07a9",
   "metadata": {},
   "outputs": [],
   "source": [
    "a = 4874834"
   ]
  },
  {
   "cell_type": "code",
   "execution_count": 57,
   "id": "2d5ae819-bc94-4f4b-87ea-926a5bb1fa48",
   "metadata": {},
   "outputs": [
    {
     "name": "stdin",
     "output_type": "stream",
     "text": [
      " 123\n"
     ]
    }
   ],
   "source": [
    "b = input()"
   ]
  },
  {
   "cell_type": "code",
   "execution_count": 58,
   "id": "7de5fcd9-8972-44ed-aee3-546e191e96f1",
   "metadata": {},
   "outputs": [
    {
     "data": {
      "text/plain": [
       "'123'"
      ]
     },
     "execution_count": 58,
     "metadata": {},
     "output_type": "execute_result"
    }
   ],
   "source": [
    "b"
   ]
  },
  {
   "cell_type": "code",
   "execution_count": 1,
   "id": "61cbfba6-f9f6-4842-af15-647e67c7cd4c",
   "metadata": {},
   "outputs": [
    {
     "name": "stdin",
     "output_type": "stream",
     "text": [
      " 12345\n"
     ]
    }
   ],
   "source": [
    "d = int(input())"
   ]
  },
  {
   "cell_type": "code",
   "execution_count": 2,
   "id": "ffa6b188-4faf-4b21-a710-7531ba9b5d03",
   "metadata": {},
   "outputs": [
    {
     "data": {
      "text/plain": [
       "12345"
      ]
     },
     "execution_count": 2,
     "metadata": {},
     "output_type": "execute_result"
    }
   ],
   "source": [
    "d"
   ]
  },
  {
   "cell_type": "code",
   "execution_count": 3,
   "id": "b6ee1a65-1a33-4e38-8025-fc0b3dd0a8f3",
   "metadata": {},
   "outputs": [
    {
     "data": {
      "text/plain": [
       "int"
      ]
     },
     "execution_count": 3,
     "metadata": {},
     "output_type": "execute_result"
    }
   ],
   "source": [
    "type(d)"
   ]
  },
  {
   "cell_type": "code",
   "execution_count": 4,
   "id": "50b2e8b9-95f9-4db4-bae0-dad527e4a5cf",
   "metadata": {},
   "outputs": [],
   "source": [
    "s = \"vanshika\""
   ]
  },
  {
   "cell_type": "code",
   "execution_count": 6,
   "id": "0d44cf51-83e9-4778-bcef-a9414a92fc16",
   "metadata": {},
   "outputs": [
    {
     "data": {
      "text/plain": [
       "'ai'"
      ]
     },
     "execution_count": 6,
     "metadata": {},
     "output_type": "execute_result"
    }
   ],
   "source": [
    "s[7:3:-2]"
   ]
  },
  {
   "cell_type": "code",
   "execution_count": 1,
   "id": "35d3cb15-e78e-4403-b2d6-7c8a55cbd5be",
   "metadata": {},
   "outputs": [],
   "source": [
    "x = 10\n",
    "\n",
    "x = x + 5"
   ]
  },
  {
   "cell_type": "code",
   "execution_count": 2,
   "id": "0685a752-5184-4770-8576-328a19148e27",
   "metadata": {},
   "outputs": [
    {
     "data": {
      "text/plain": [
       "15"
      ]
     },
     "execution_count": 2,
     "metadata": {},
     "output_type": "execute_result"
    }
   ],
   "source": [
    "x"
   ]
  },
  {
   "cell_type": "code",
   "execution_count": 3,
   "id": "a7fc7d49-ebe7-4bb1-828b-0f1b87337de9",
   "metadata": {},
   "outputs": [
    {
     "name": "stdout",
     "output_type": "stream",
     "text": [
      "World\n"
     ]
    }
   ],
   "source": [
    "message = \"Hello, World!\"\n",
    "\n",
    "print(message[-6:-1])"
   ]
  },
  {
   "cell_type": "code",
   "execution_count": 4,
   "id": "e49c9670-ca40-47c1-8788-6e2d36ed9d7c",
   "metadata": {},
   "outputs": [
    {
     "name": "stdout",
     "output_type": "stream",
     "text": [
      "Hello, World!\n"
     ]
    }
   ],
   "source": [
    "text = \"   Hello, World!   \"\n",
    "\n",
    "trimmed_text = text.strip()\n",
    "\n",
    "print(trimmed_text)"
   ]
  },
  {
   "cell_type": "code",
   "execution_count": 5,
   "id": "d69a0533-a6d4-46ed-9eb9-544987337d28",
   "metadata": {},
   "outputs": [],
   "source": [
    "l = []"
   ]
  },
  {
   "cell_type": "code",
   "execution_count": 6,
   "id": "df6bd189-37c3-4113-9d4d-5c34381cf296",
   "metadata": {},
   "outputs": [
    {
     "data": {
      "text/plain": [
       "list"
      ]
     },
     "execution_count": 6,
     "metadata": {},
     "output_type": "execute_result"
    }
   ],
   "source": [
    "type(l)"
   ]
  },
  {
   "cell_type": "code",
   "execution_count": 1,
   "id": "00616ddb-f984-412d-8ba3-9e3b7334de05",
   "metadata": {},
   "outputs": [],
   "source": [
    "l1 = [1,2,3,\"dsdsd\", True, [1,2,3,3,3]]"
   ]
  },
  {
   "cell_type": "code",
   "execution_count": 2,
   "id": "6a4c5c4c-b84f-448a-be3d-49fecafa2af5",
   "metadata": {},
   "outputs": [
    {
     "data": {
      "text/plain": [
       "[1, 2, 3, 'dsdsd', True, [1, 2, 3, 3, 3]]"
      ]
     },
     "execution_count": 2,
     "metadata": {},
     "output_type": "execute_result"
    }
   ],
   "source": [
    "l1"
   ]
  },
  {
   "cell_type": "code",
   "execution_count": 3,
   "id": "c5a8f394-dce8-42d0-b602-3b6496a2432f",
   "metadata": {},
   "outputs": [
    {
     "data": {
      "text/plain": [
       "'dsdsd'"
      ]
     },
     "execution_count": 3,
     "metadata": {},
     "output_type": "execute_result"
    }
   ],
   "source": [
    "l1[3]"
   ]
  },
  {
   "cell_type": "code",
   "execution_count": 4,
   "id": "f4f45101-8c5a-4bcb-b097-118f27cef3c9",
   "metadata": {},
   "outputs": [
    {
     "data": {
      "text/plain": [
       "3"
      ]
     },
     "execution_count": 4,
     "metadata": {},
     "output_type": "execute_result"
    }
   ],
   "source": [
    "l1[-1][2]"
   ]
  },
  {
   "cell_type": "code",
   "execution_count": 5,
   "id": "ba44fccf-8d41-4bf6-8320-01f459fa3ba7",
   "metadata": {},
   "outputs": [
    {
     "data": {
      "text/plain": [
       "[1, 2, 3]"
      ]
     },
     "execution_count": 5,
     "metadata": {},
     "output_type": "execute_result"
    }
   ],
   "source": [
    "l1[0:3]"
   ]
  },
  {
   "cell_type": "code",
   "execution_count": 6,
   "id": "70fff473-a808-4024-803e-83112b80ea3b",
   "metadata": {},
   "outputs": [],
   "source": [
    "l2 = [3,4,5,\"pwskills\" , \"vanshika\"]"
   ]
  },
  {
   "cell_type": "code",
   "execution_count": 7,
   "id": "f4aba285-d0db-4a7a-8ca3-38221fbdcb83",
   "metadata": {},
   "outputs": [
    {
     "data": {
      "text/plain": [
       "[1, 2, 3, 'dsdsd', True, [1, 2, 3, 3, 3], 3, 4, 5, 'pwskills', 'vanshika']"
      ]
     },
     "execution_count": 7,
     "metadata": {},
     "output_type": "execute_result"
    }
   ],
   "source": [
    "l1+l2"
   ]
  },
  {
   "cell_type": "code",
   "execution_count": 8,
   "id": "87738403-38eb-49ed-8981-8a54771be47f",
   "metadata": {},
   "outputs": [
    {
     "data": {
      "text/plain": [
       "[3, 4, 5, 'pwskills', 'vanshika', 3, 4, 5, 'pwskills', 'vanshika']"
      ]
     },
     "execution_count": 8,
     "metadata": {},
     "output_type": "execute_result"
    }
   ],
   "source": [
    "l2*2"
   ]
  },
  {
   "cell_type": "code",
   "execution_count": 9,
   "id": "9cce51f4-b926-4ac1-acf1-4f3a3754aac7",
   "metadata": {},
   "outputs": [
    {
     "data": {
      "text/plain": [
       "[3, 4, 5, 'pwskills', 'vanshika']"
      ]
     },
     "execution_count": 9,
     "metadata": {},
     "output_type": "execute_result"
    }
   ],
   "source": [
    "l2"
   ]
  },
  {
   "cell_type": "code",
   "execution_count": 11,
   "id": "715fccf9-eae1-40c0-b1a8-d59c0c16c822",
   "metadata": {},
   "outputs": [],
   "source": [
    "l2[0] = 300"
   ]
  },
  {
   "cell_type": "code",
   "execution_count": 12,
   "id": "65fb7004-83cd-4189-bfbd-40187a5ae40d",
   "metadata": {},
   "outputs": [
    {
     "data": {
      "text/plain": [
       "[300, 4, 5, 'pwskills', 'vanshika']"
      ]
     },
     "execution_count": 12,
     "metadata": {},
     "output_type": "execute_result"
    }
   ],
   "source": [
    "l2"
   ]
  },
  {
   "cell_type": "code",
   "execution_count": 13,
   "id": "a9d6f81d-9ee8-4d31-abaa-d55978ca4d5f",
   "metadata": {},
   "outputs": [],
   "source": [
    "t = (1,2,3,4,5, \"sadew\")"
   ]
  },
  {
   "cell_type": "code",
   "execution_count": 14,
   "id": "3340e161-a674-45f5-8a8b-5f65bc814545",
   "metadata": {},
   "outputs": [
    {
     "data": {
      "text/plain": [
       "tuple"
      ]
     },
     "execution_count": 14,
     "metadata": {},
     "output_type": "execute_result"
    }
   ],
   "source": [
    "type(t)"
   ]
  },
  {
   "cell_type": "code",
   "execution_count": 15,
   "id": "a0ae326f-694c-4a45-8a70-14abc312d0b7",
   "metadata": {},
   "outputs": [
    {
     "data": {
      "text/plain": [
       "1"
      ]
     },
     "execution_count": 15,
     "metadata": {},
     "output_type": "execute_result"
    }
   ],
   "source": [
    "t[0]"
   ]
  },
  {
   "cell_type": "code",
   "execution_count": 17,
   "id": "d1767f04-a751-4e3b-8cb1-6296a0870bf5",
   "metadata": {},
   "outputs": [
    {
     "data": {
      "text/plain": [
       "'sadew'"
      ]
     },
     "execution_count": 17,
     "metadata": {},
     "output_type": "execute_result"
    }
   ],
   "source": [
    "t[-1]"
   ]
  },
  {
   "cell_type": "code",
   "execution_count": 18,
   "id": "b94783c0-3c99-40d3-8c73-1190ef4370ec",
   "metadata": {},
   "outputs": [
    {
     "data": {
      "text/plain": [
       "('sadew', 5, 4, 3, 2, 1)"
      ]
     },
     "execution_count": 18,
     "metadata": {},
     "output_type": "execute_result"
    }
   ],
   "source": [
    "t[::-1]"
   ]
  },
  {
   "cell_type": "code",
   "execution_count": 19,
   "id": "e3619a79-5ec9-4a83-b3ce-ab4e0f60ad86",
   "metadata": {},
   "outputs": [],
   "source": [
    "t1 = (1,2,3,4)"
   ]
  },
  {
   "cell_type": "code",
   "execution_count": 20,
   "id": "d60da066-45cd-4687-a1be-c1dab6c501d2",
   "metadata": {},
   "outputs": [
    {
     "data": {
      "text/plain": [
       "(1, 2, 3, 4, 5, 'sadew', 1, 2, 3, 4)"
      ]
     },
     "execution_count": 20,
     "metadata": {},
     "output_type": "execute_result"
    }
   ],
   "source": [
    "t + t1"
   ]
  },
  {
   "cell_type": "code",
   "execution_count": 21,
   "id": "1786d7a4-056e-4ba5-9254-02315f29b6b2",
   "metadata": {},
   "outputs": [
    {
     "data": {
      "text/plain": [
       "(1, 2, 3, 4, 1, 2, 3, 4)"
      ]
     },
     "execution_count": 21,
     "metadata": {},
     "output_type": "execute_result"
    }
   ],
   "source": [
    "t1*2"
   ]
  },
  {
   "cell_type": "code",
   "execution_count": 22,
   "id": "d3d67ffa-3e1f-495c-ab63-d739ef0f1e07",
   "metadata": {},
   "outputs": [
    {
     "data": {
      "text/plain": [
       "[1, 2, 3, 4, 5, 'sadew']"
      ]
     },
     "execution_count": 22,
     "metadata": {},
     "output_type": "execute_result"
    }
   ],
   "source": [
    "list(t)"
   ]
  },
  {
   "cell_type": "code",
   "execution_count": 24,
   "id": "1450d4ef-6678-4172-8250-85faace4d547",
   "metadata": {},
   "outputs": [
    {
     "data": {
      "text/plain": [
       "6"
      ]
     },
     "execution_count": 24,
     "metadata": {},
     "output_type": "execute_result"
    }
   ],
   "source": [
    "len(t)"
   ]
  },
  {
   "cell_type": "code",
   "execution_count": 25,
   "id": "1db97738-250c-4ea6-99b0-47253bdc8f9c",
   "metadata": {},
   "outputs": [
    {
     "data": {
      "text/plain": [
       "6"
      ]
     },
     "execution_count": 25,
     "metadata": {},
     "output_type": "execute_result"
    }
   ],
   "source": [
    "len(l1)"
   ]
  },
  {
   "cell_type": "code",
   "execution_count": 26,
   "id": "ceba75eb-816e-4529-b091-e1526b28b970",
   "metadata": {},
   "outputs": [],
   "source": [
    "s = {}"
   ]
  },
  {
   "cell_type": "code",
   "execution_count": 27,
   "id": "cd0d4fa1-6cc0-450a-afa0-d7854e6cb276",
   "metadata": {},
   "outputs": [
    {
     "data": {
      "text/plain": [
       "dict"
      ]
     },
     "execution_count": 27,
     "metadata": {},
     "output_type": "execute_result"
    }
   ],
   "source": [
    "type(s)"
   ]
  },
  {
   "cell_type": "code",
   "execution_count": 28,
   "id": "f1294935-1b79-4efc-bab3-49e69c6bad5c",
   "metadata": {},
   "outputs": [],
   "source": [
    "s1 = {1,2,3,3,4,5}"
   ]
  },
  {
   "cell_type": "code",
   "execution_count": 29,
   "id": "b121d87b-29fb-41a3-aab5-552941fee4bb",
   "metadata": {},
   "outputs": [
    {
     "data": {
      "text/plain": [
       "set"
      ]
     },
     "execution_count": 29,
     "metadata": {},
     "output_type": "execute_result"
    }
   ],
   "source": [
    "type(s1)"
   ]
  },
  {
   "cell_type": "code",
   "execution_count": 30,
   "id": "6b9ba2cc-e789-4c1f-ac02-cb335f596bc1",
   "metadata": {},
   "outputs": [
    {
     "data": {
      "text/plain": [
       "{1, 2, 3, 4, 5}"
      ]
     },
     "execution_count": 30,
     "metadata": {},
     "output_type": "execute_result"
    }
   ],
   "source": [
    "s1"
   ]
  },
  {
   "cell_type": "code",
   "execution_count": 31,
   "id": "6a259061-e863-40cc-b692-59bc19cebd7b",
   "metadata": {},
   "outputs": [],
   "source": [
    "s2 = {5,7,5,8,9,8,6,5,7,9,}"
   ]
  },
  {
   "cell_type": "code",
   "execution_count": 32,
   "id": "15d29b05-767b-44e1-8c08-832405403466",
   "metadata": {},
   "outputs": [
    {
     "data": {
      "text/plain": [
       "{5, 6, 7, 8, 9}"
      ]
     },
     "execution_count": 32,
     "metadata": {},
     "output_type": "execute_result"
    }
   ],
   "source": [
    "s2"
   ]
  },
  {
   "cell_type": "code",
   "execution_count": 34,
   "id": "d8ce15f1-0e59-45d5-a630-3fcddea41e1d",
   "metadata": {},
   "outputs": [],
   "source": [
    "d1 = {\"name\": \"vanshika\", \"subjec\":[\"dbhjbvd\",\"hdbsfsde\"],\"number\":12313432} "
   ]
  },
  {
   "cell_type": "code",
   "execution_count": 35,
   "id": "0c6520e9-1c3e-433c-88f5-5bb8a873ef9b",
   "metadata": {},
   "outputs": [
    {
     "data": {
      "text/plain": [
       "{'name': 'vanshika', 'subjec': ['dbhjbvd', 'hdbsfsde'], 'number': 12313432}"
      ]
     },
     "execution_count": 35,
     "metadata": {},
     "output_type": "execute_result"
    }
   ],
   "source": [
    "d1"
   ]
  },
  {
   "cell_type": "code",
   "execution_count": 36,
   "id": "3ae07dd7-ce81-4e5f-9516-da4bf37f9321",
   "metadata": {},
   "outputs": [],
   "source": [
    "d3 ={(1,3,3,4): \"sdfw\"}"
   ]
  },
  {
   "cell_type": "code",
   "execution_count": 37,
   "id": "0edf6a51-3e8b-4795-979b-6ea45eeb3821",
   "metadata": {},
   "outputs": [
    {
     "data": {
      "text/plain": [
       "{(1, 3, 3, 4): 'sdfw'}"
      ]
     },
     "execution_count": 37,
     "metadata": {},
     "output_type": "execute_result"
    }
   ],
   "source": [
    "d3"
   ]
  },
  {
   "cell_type": "code",
   "execution_count": 48,
   "id": "8c9e0e4d-6dff-40d4-b868-bc90ab8d58b3",
   "metadata": {},
   "outputs": [],
   "source": [
    "s1 = \"dshdjhjd\""
   ]
  },
  {
   "cell_type": "code",
   "execution_count": 49,
   "id": "f5e41129-5554-4a9b-97bf-1f4860a3f2f5",
   "metadata": {},
   "outputs": [
    {
     "data": {
      "text/plain": [
       "'DSHDJHJD'"
      ]
     },
     "execution_count": 49,
     "metadata": {},
     "output_type": "execute_result"
    }
   ],
   "source": [
    "s1.upper()"
   ]
  },
  {
   "cell_type": "code",
   "execution_count": 50,
   "id": "02e7dcae-5e26-47ef-89ea-ed07a5d377cd",
   "metadata": {},
   "outputs": [
    {
     "data": {
      "text/plain": [
       "3"
      ]
     },
     "execution_count": 50,
     "metadata": {},
     "output_type": "execute_result"
    }
   ],
   "source": [
    "s1.count(\"d\")"
   ]
  },
  {
   "cell_type": "code",
   "execution_count": 52,
   "id": "a9284e2e-df77-40e2-a073-d18039c20379",
   "metadata": {},
   "outputs": [
    {
     "data": {
      "text/plain": [
       "1"
      ]
     },
     "execution_count": 52,
     "metadata": {},
     "output_type": "execute_result"
    }
   ],
   "source": [
    "s1.find('s')"
   ]
  },
  {
   "cell_type": "code",
   "execution_count": 53,
   "id": "349aec1b-a991-4ea2-a8cc-73d9e4f87fe8",
   "metadata": {},
   "outputs": [
    {
     "data": {
      "text/plain": [
       "'lshljhjl'"
      ]
     },
     "execution_count": 53,
     "metadata": {},
     "output_type": "execute_result"
    }
   ],
   "source": [
    "s1.replace(\"d\",\"l\")"
   ]
  },
  {
   "cell_type": "code",
   "execution_count": 54,
   "id": "bc2e1fcc-1794-427b-9120-78252815ebc6",
   "metadata": {},
   "outputs": [
    {
     "data": {
      "text/plain": [
       "'ssssssssssssssssdshdjhjdssssssssssssssss'"
      ]
     },
     "execution_count": 54,
     "metadata": {},
     "output_type": "execute_result"
    }
   ],
   "source": [
    "s1.center(40,\"s\")"
   ]
  },
  {
   "cell_type": "code",
   "execution_count": 55,
   "id": "7d729dfd-746e-4456-b98c-3f29ae94c91a",
   "metadata": {},
   "outputs": [
    {
     "data": {
      "text/plain": [
       "'dshdjhjd'"
      ]
     },
     "execution_count": 55,
     "metadata": {},
     "output_type": "execute_result"
    }
   ],
   "source": [
    "s1.rstrip()"
   ]
  },
  {
   "cell_type": "code",
   "execution_count": 56,
   "id": "3f8534ff-119a-41b1-add1-aab713bb41de",
   "metadata": {},
   "outputs": [],
   "source": [
    "s2 = \"         dcsag\""
   ]
  },
  {
   "cell_type": "code",
   "execution_count": 58,
   "id": "54c37f6a-33e9-4dd8-a9cd-dd16ebdb7c32",
   "metadata": {},
   "outputs": [
    {
     "data": {
      "text/plain": [
       "'dcsag'"
      ]
     },
     "execution_count": 58,
     "metadata": {},
     "output_type": "execute_result"
    }
   ],
   "source": [
    "s2.lstrip()"
   ]
  },
  {
   "cell_type": "code",
   "execution_count": 59,
   "id": "060da9e0-3f3f-402b-b3e1-606ca5420b72",
   "metadata": {},
   "outputs": [
    {
     "data": {
      "text/plain": [
       "[1, 2, 3, 3, 3]"
      ]
     },
     "execution_count": 59,
     "metadata": {},
     "output_type": "execute_result"
    }
   ],
   "source": [
    "l1.pop()"
   ]
  },
  {
   "cell_type": "code",
   "execution_count": 60,
   "id": "91ef0aba-2fdc-4d77-b72d-ea6710c844b7",
   "metadata": {},
   "outputs": [
    {
     "data": {
      "text/plain": [
       "[1, 2, 3, 'dsdsd', True]"
      ]
     },
     "execution_count": 60,
     "metadata": {},
     "output_type": "execute_result"
    }
   ],
   "source": [
    "l1"
   ]
  },
  {
   "cell_type": "code",
   "execution_count": 61,
   "id": "c5f99d91-c4fa-4866-9f5f-b73673b0afcf",
   "metadata": {},
   "outputs": [],
   "source": [
    "del l2"
   ]
  },
  {
   "cell_type": "code",
   "execution_count": 62,
   "id": "fc08b3b7-75b0-4d32-ae49-3c794b921855",
   "metadata": {},
   "outputs": [],
   "source": [
    "del s"
   ]
  },
  {
   "cell_type": "code",
   "execution_count": 63,
   "id": "1b47bd04-eae1-476e-9985-7fd40277ca58",
   "metadata": {},
   "outputs": [],
   "source": [
    "l1.remove(2)"
   ]
  },
  {
   "cell_type": "code",
   "execution_count": 64,
   "id": "a59d69e6-e9d4-4d26-9e61-cec3cbcac9ba",
   "metadata": {},
   "outputs": [
    {
     "data": {
      "text/plain": [
       "[1, 3, 'dsdsd', True]"
      ]
     },
     "execution_count": 64,
     "metadata": {},
     "output_type": "execute_result"
    }
   ],
   "source": [
    "l1"
   ]
  },
  {
   "cell_type": "code",
   "execution_count": 65,
   "id": "b292a3f3-ecbf-479a-831f-7b3a267d14a8",
   "metadata": {},
   "outputs": [],
   "source": [
    "l3 = [1,2,5,6,8,3,6,9]"
   ]
  },
  {
   "cell_type": "code",
   "execution_count": 66,
   "id": "9f955f52-cc81-45ab-ab43-7a68d53c4bf9",
   "metadata": {},
   "outputs": [],
   "source": [
    "l3.sort()"
   ]
  },
  {
   "cell_type": "code",
   "execution_count": 67,
   "id": "fac067c5-a82c-4e8a-b113-812712e9c4bf",
   "metadata": {},
   "outputs": [
    {
     "data": {
      "text/plain": [
       "[1, 2, 3, 5, 6, 6, 8, 9]"
      ]
     },
     "execution_count": 67,
     "metadata": {},
     "output_type": "execute_result"
    }
   ],
   "source": [
    "l3"
   ]
  },
  {
   "cell_type": "code",
   "execution_count": 1,
   "id": "a608999b-349b-4b56-b4a0-c81bc28d188b",
   "metadata": {},
   "outputs": [
    {
     "name": "stdout",
     "output_type": "stream",
     "text": [
      "hi gdcgc\n"
     ]
    }
   ],
   "source": [
    "x = \"hi\"\n",
    "y = \"gdcgc\"\n",
    "\n",
    "print(f\"{x} {y}\")"
   ]
  },
  {
   "cell_type": "code",
   "execution_count": 2,
   "id": "bca7d2c2-413f-49c1-86b8-83c7573501d2",
   "metadata": {},
   "outputs": [
    {
     "name": "stdout",
     "output_type": "stream",
     "text": [
      "fds\n"
     ]
    }
   ],
   "source": [
    "print(\"fds\")"
   ]
  },
  {
   "cell_type": "code",
   "execution_count": 4,
   "id": "335222ff-dc5a-47a7-96e9-75561877a0c2",
   "metadata": {},
   "outputs": [
    {
     "name": "stdout",
     "output_type": "stream",
     "text": [
      " Dad dsfc\n"
     ]
    }
   ],
   "source": [
    "y = \"Dad\"\n",
    "v =\"dsfc\"\n",
    "\n",
    "print(f\" {y} {v}\" )"
   ]
  },
  {
   "cell_type": "code",
   "execution_count": 6,
   "id": "62c794ac-b152-48e6-931e-3273be05fc4b",
   "metadata": {},
   "outputs": [
    {
     "name": "stdin",
     "output_type": "stream",
     "text": [
      "sff evfhw\n"
     ]
    }
   ],
   "source": [
    "a = input(\"sff\")"
   ]
  },
  {
   "cell_type": "code",
   "execution_count": 10,
   "id": "1c8efd43-e0cd-47e2-bfed-c24934e8d730",
   "metadata": {},
   "outputs": [
    {
     "name": "stdout",
     "output_type": "stream",
     "text": [
      "FDAC and DEAF \n"
     ]
    }
   ],
   "source": [
    "print(\"{1} and {0} \".format(\"DEAF\", \"FDAC\"))"
   ]
  },
  {
   "cell_type": "code",
   "execution_count": 1,
   "id": "d1974769-59dd-4a28-b907-83883574bc9c",
   "metadata": {},
   "outputs": [
    {
     "name": "stdout",
     "output_type": "stream",
     "text": [
      "37638731491\n"
     ]
    }
   ],
   "source": [
    "print(37638731491)"
   ]
  },
  {
   "cell_type": "code",
   "execution_count": 2,
   "id": "688cfdf2-e84d-4825-83b3-8834c436177e",
   "metadata": {},
   "outputs": [
    {
     "name": "stdout",
     "output_type": "stream",
     "text": [
      "Hi\n"
     ]
    }
   ],
   "source": [
    "print(\"Hi\")"
   ]
  },
  {
   "cell_type": "code",
   "execution_count": 3,
   "id": "d4545df1-aebc-422c-ae7e-e5f55ee1eef9",
   "metadata": {},
   "outputs": [
    {
     "name": "stdout",
     "output_type": "stream",
     "text": [
      "dceedqxd\n"
     ]
    }
   ],
   "source": [
    "print(f\"dceedqxd\")"
   ]
  },
  {
   "cell_type": "code",
   "execution_count": 4,
   "id": "f4446963-fb08-4b14-a3c5-987689ff31dc",
   "metadata": {},
   "outputs": [],
   "source": [
    "a = 10"
   ]
  },
  {
   "cell_type": "code",
   "execution_count": 6,
   "id": "b448aaab-1ec3-485f-9cd8-542055df0d6e",
   "metadata": {},
   "outputs": [],
   "source": [
    "b = 10"
   ]
  },
  {
   "cell_type": "code",
   "execution_count": 7,
   "id": "b0ef27ba-91ae-4231-814e-20b829e71fdd",
   "metadata": {},
   "outputs": [
    {
     "data": {
      "text/plain": [
       "True"
      ]
     },
     "execution_count": 7,
     "metadata": {},
     "output_type": "execute_result"
    }
   ],
   "source": [
    "a == b"
   ]
  },
  {
   "cell_type": "code",
   "execution_count": 8,
   "id": "8e2bb83d-3e93-4c4f-8963-2cd2229bb382",
   "metadata": {},
   "outputs": [
    {
     "data": {
      "text/plain": [
       "True"
      ]
     },
     "execution_count": 8,
     "metadata": {},
     "output_type": "execute_result"
    }
   ],
   "source": [
    "a is b"
   ]
  },
  {
   "cell_type": "code",
   "execution_count": 1,
   "id": "50c7a733-5c99-4727-b5f6-74d11c4c56b4",
   "metadata": {},
   "outputs": [],
   "source": [
    "a = 10"
   ]
  },
  {
   "cell_type": "code",
   "execution_count": 2,
   "id": "99c539a2-7c9e-4d98-ab7d-a6d473e67037",
   "metadata": {},
   "outputs": [],
   "source": [
    "b = 20"
   ]
  },
  {
   "cell_type": "code",
   "execution_count": 3,
   "id": "8294d0d2-5278-4adc-b360-d980fe906897",
   "metadata": {},
   "outputs": [
    {
     "data": {
      "text/plain": [
       "False"
      ]
     },
     "execution_count": 3,
     "metadata": {},
     "output_type": "execute_result"
    }
   ],
   "source": [
    "a > b"
   ]
  },
  {
   "cell_type": "code",
   "execution_count": 4,
   "id": "ac0b8c22-a0c0-4ca7-ad6e-0fc0517cc3fb",
   "metadata": {},
   "outputs": [
    {
     "data": {
      "text/plain": [
       "True"
      ]
     },
     "execution_count": 4,
     "metadata": {},
     "output_type": "execute_result"
    }
   ],
   "source": [
    "a < b"
   ]
  },
  {
   "cell_type": "code",
   "execution_count": 6,
   "id": "edf6eb2e-390a-4deb-a34e-432d3dff25cb",
   "metadata": {},
   "outputs": [
    {
     "data": {
      "text/plain": [
       "2"
      ]
     },
     "execution_count": 6,
     "metadata": {},
     "output_type": "execute_result"
    }
   ],
   "source": [
    "5%3"
   ]
  },
  {
   "cell_type": "code",
   "execution_count": 7,
   "id": "94ba2d86-bc60-44c1-8fa4-b759bce6fa5e",
   "metadata": {},
   "outputs": [],
   "source": [
    "a = 10"
   ]
  },
  {
   "cell_type": "code",
   "execution_count": 8,
   "id": "17e0f4c6-48b1-438f-b0a4-48cd78504816",
   "metadata": {},
   "outputs": [],
   "source": [
    "b =4"
   ]
  },
  {
   "cell_type": "code",
   "execution_count": 9,
   "id": "8a1ea5cc-e929-44dc-8395-4e241513d990",
   "metadata": {},
   "outputs": [
    {
     "data": {
      "text/plain": [
       "'0b1010'"
      ]
     },
     "execution_count": 9,
     "metadata": {},
     "output_type": "execute_result"
    }
   ],
   "source": [
    "bin(a)"
   ]
  },
  {
   "cell_type": "code",
   "execution_count": 11,
   "id": "def2f78c-a14a-411c-9600-49d117b82f59",
   "metadata": {},
   "outputs": [
    {
     "data": {
      "text/plain": [
       "'0b100'"
      ]
     },
     "execution_count": 11,
     "metadata": {},
     "output_type": "execute_result"
    }
   ],
   "source": [
    "bin(b)"
   ]
  },
  {
   "cell_type": "code",
   "execution_count": 12,
   "id": "b0f85537-43c4-413f-bd6d-c818f740bf96",
   "metadata": {},
   "outputs": [
    {
     "data": {
      "text/plain": [
       "0"
      ]
     },
     "execution_count": 12,
     "metadata": {},
     "output_type": "execute_result"
    }
   ],
   "source": [
    "a & b"
   ]
  },
  {
   "cell_type": "code",
   "execution_count": 13,
   "id": "b784cb19-d173-41a2-b496-5b2aefae5dcc",
   "metadata": {},
   "outputs": [
    {
     "data": {
      "text/plain": [
       "14"
      ]
     },
     "execution_count": 13,
     "metadata": {},
     "output_type": "execute_result"
    }
   ],
   "source": [
    "a | b"
   ]
  },
  {
   "cell_type": "code",
   "execution_count": 14,
   "id": "f6445d7e-7e55-4a19-bedb-d0932ea9cbdf",
   "metadata": {},
   "outputs": [
    {
     "data": {
      "text/plain": [
       "-11"
      ]
     },
     "execution_count": 14,
     "metadata": {},
     "output_type": "execute_result"
    }
   ],
   "source": [
    "~a"
   ]
  },
  {
   "cell_type": "code",
   "execution_count": 3,
   "id": "b6168c72-1efd-4bd1-9161-c73fff72657c",
   "metadata": {},
   "outputs": [],
   "source": [
    "a = False"
   ]
  },
  {
   "cell_type": "code",
   "execution_count": 4,
   "id": "bfe5d76c-01a9-4efe-bd1f-0bf02eb5e68e",
   "metadata": {},
   "outputs": [
    {
     "data": {
      "text/plain": [
       "True"
      ]
     },
     "execution_count": 4,
     "metadata": {},
     "output_type": "execute_result"
    }
   ],
   "source": [
    "not a"
   ]
  },
  {
   "cell_type": "code",
   "execution_count": 5,
   "id": "df0cbdac-1100-4fe8-9fad-68c92d4ae7cf",
   "metadata": {},
   "outputs": [],
   "source": [
    "a = 10\n",
    "b =4"
   ]
  },
  {
   "cell_type": "code",
   "execution_count": 6,
   "id": "62e8cf8c-a363-4c15-905e-0b7d303666c4",
   "metadata": {},
   "outputs": [
    {
     "data": {
      "text/plain": [
       "'0b1010'"
      ]
     },
     "execution_count": 6,
     "metadata": {},
     "output_type": "execute_result"
    }
   ],
   "source": [
    "bin(a)"
   ]
  },
  {
   "cell_type": "code",
   "execution_count": 7,
   "id": "55f712d4-4e2a-4ca7-9efb-8d8dcb3c6768",
   "metadata": {},
   "outputs": [
    {
     "data": {
      "text/plain": [
       "'0b100'"
      ]
     },
     "execution_count": 7,
     "metadata": {},
     "output_type": "execute_result"
    }
   ],
   "source": [
    "bin(4)"
   ]
  },
  {
   "cell_type": "code",
   "execution_count": 8,
   "id": "76ab9c90-7a57-4d0f-b72c-3508a771c592",
   "metadata": {},
   "outputs": [
    {
     "data": {
      "text/plain": [
       "0"
      ]
     },
     "execution_count": 8,
     "metadata": {},
     "output_type": "execute_result"
    }
   ],
   "source": [
    "a & b"
   ]
  },
  {
   "cell_type": "code",
   "execution_count": 9,
   "id": "bef0cf3a-f38b-4048-a2e8-86576860b66e",
   "metadata": {},
   "outputs": [
    {
     "data": {
      "text/plain": [
       "14"
      ]
     },
     "execution_count": 9,
     "metadata": {},
     "output_type": "execute_result"
    }
   ],
   "source": [
    "a|b"
   ]
  },
  {
   "cell_type": "code",
   "execution_count": 11,
   "id": "25b40f79-85a9-4818-8c76-e1f39078f8e4",
   "metadata": {},
   "outputs": [
    {
     "name": "stdout",
     "output_type": "stream",
     "text": [
      "largest number is 30\n"
     ]
    }
   ],
   "source": [
    "num1 = 10\n",
    "num2 = 20\n",
    "num3 = 30\n",
    "\n",
    "if (num1 >= num2) and (num1>=num3):\n",
    "    largest = num1\n",
    "    print(\"largest number is\",largest)\n",
    "elif (num2 >= num1) and (num2>=num3):\n",
    "    largest = num2\n",
    "    print(\"largest number is\",largest)\n",
    "else:\n",
    "    largest = num3\n",
    "    print(\"largest number is\",largest)\n",
    "      "
   ]
  },
  {
   "cell_type": "code",
   "execution_count": 13,
   "id": "702ffbbe-e3af-4159-87e5-7912fee783e8",
   "metadata": {},
   "outputs": [
    {
     "data": {
      "text/plain": [
       "[2, 5, 8, 11]"
      ]
     },
     "execution_count": 13,
     "metadata": {},
     "output_type": "execute_result"
    }
   ],
   "source": [
    "list(range(2,12,3))"
   ]
  },
  {
   "cell_type": "code",
   "execution_count": 1,
   "id": "ef653937-a999-47e1-8c69-8ea01c693b30",
   "metadata": {},
   "outputs": [],
   "source": [
    "text = 'i assd sdsdc'"
   ]
  },
  {
   "cell_type": "code",
   "execution_count": 2,
   "id": "787648a9-8b69-475e-ab1c-c3ecd87d3d1e",
   "metadata": {},
   "outputs": [
    {
     "data": {
      "text/plain": [
       "['i', 'assd', 'sdsdc']"
      ]
     },
     "execution_count": 2,
     "metadata": {},
     "output_type": "execute_result"
    }
   ],
   "source": [
    "text.split()"
   ]
  },
  {
   "cell_type": "code",
   "execution_count": 3,
   "id": "a5bc04e6-4364-48cd-b650-a51a19069028",
   "metadata": {},
   "outputs": [],
   "source": [
    "text = \"sdSXC SVGSC DSF\""
   ]
  },
  {
   "cell_type": "code",
   "execution_count": 4,
   "id": "2ce43b39-f9cd-4633-b620-4310995284be",
   "metadata": {},
   "outputs": [
    {
     "data": {
      "text/plain": [
       "['sdSXC', 'SVGSC', 'DSF']"
      ]
     },
     "execution_count": 4,
     "metadata": {},
     "output_type": "execute_result"
    }
   ],
   "source": [
    "text.split()"
   ]
  },
  {
   "cell_type": "code",
   "execution_count": 5,
   "id": "1316199a-2bcf-4c76-9bfd-1344210f6df6",
   "metadata": {},
   "outputs": [
    {
     "name": "stdin",
     "output_type": "stream",
     "text": [
      "SAdWD SDCA CSVXVDSH\n"
     ]
    }
   ],
   "source": [
    "x = input(\"SAdWD SDCA\")"
   ]
  },
  {
   "cell_type": "code",
   "execution_count": 6,
   "id": "5638b05d-9d26-46f4-8aff-5691a2226d7f",
   "metadata": {},
   "outputs": [
    {
     "data": {
      "text/plain": [
       "['CSVXVDSH']"
      ]
     },
     "execution_count": 6,
     "metadata": {},
     "output_type": "execute_result"
    }
   ],
   "source": [
    "x.split()"
   ]
  },
  {
   "cell_type": "code",
   "execution_count": 2,
   "id": "1a021d19-adf1-462f-8b73-2de70cc4b3fd",
   "metadata": {},
   "outputs": [
    {
     "name": "stdin",
     "output_type": "stream",
     "text": [
      "svxhdv 2\n",
      "hxbsh 3\n"
     ]
    },
    {
     "name": "stdout",
     "output_type": "stream",
     "text": [
      "5\n"
     ]
    }
   ],
   "source": [
    "a = int(input(\"svxhdv\"))\n",
    "b = int(input(\"hxbsh\"))\n",
    "print(a+b)"
   ]
  },
  {
   "cell_type": "code",
   "execution_count": 4,
   "id": "6f390889-bb4c-44f5-ba2e-8c7f5c5f9e45",
   "metadata": {},
   "outputs": [
    {
     "name": "stdin",
     "output_type": "stream",
     "text": [
      "ADqdscd 4 5\n"
     ]
    },
    {
     "name": "stdout",
     "output_type": "stream",
     "text": [
      "9\n"
     ]
    }
   ],
   "source": [
    "a,b = input(\"ADqdscd\").split()\n",
    "c= int(a) +int(b)\n",
    "\n",
    "print(c)"
   ]
  },
  {
   "cell_type": "code",
   "execution_count": 6,
   "id": "2dd7b00d-2a28-45f9-a64d-807bf6df7ff7",
   "metadata": {},
   "outputs": [
    {
     "name": "stdin",
     "output_type": "stream",
     "text": [
      "sddeded 4 eww 5\n"
     ]
    },
    {
     "name": "stdout",
     "output_type": "stream",
     "text": [
      "4\n",
      "eww\n",
      "5\n"
     ]
    }
   ],
   "source": [
    "x = input(\"sddeded\")\n",
    "roll, name, percent = x.split()\n",
    "\n",
    "print(roll)\n",
    "print(name)\n",
    "print(percent)"
   ]
  },
  {
   "cell_type": "code",
   "execution_count": 8,
   "id": "ccff7ab7-ad8e-4b8f-8f98-7924a5f585d1",
   "metadata": {},
   "outputs": [
    {
     "name": "stdout",
     "output_type": "stream",
     "text": [
      "['A', 'b', 'C', 'D', 'E F']\n"
     ]
    }
   ],
   "source": [
    "s1 = \"A b C D E F\"\n",
    "print(s1.split(' ',4))"
   ]
  },
  {
   "cell_type": "code",
   "execution_count": 9,
   "id": "e1dfaa2a-26b5-4577-9686-6a80a505eaf8",
   "metadata": {},
   "outputs": [
    {
     "name": "stdout",
     "output_type": "stream",
     "text": [
      "0\n",
      "1\n",
      "2\n"
     ]
    }
   ],
   "source": [
    "for i in range(5):\n",
    "    if i == 3:\n",
    "        break\n",
    "    print(i)"
   ]
  },
  {
   "cell_type": "code",
   "execution_count": 3,
   "id": "de8dfac7-2029-4519-b671-8cfe7c042e28",
   "metadata": {},
   "outputs": [
    {
     "name": "stdout",
     "output_type": "stream",
     "text": [
      "1\n",
      "3\n",
      "5\n",
      "7\n",
      "9\n"
     ]
    }
   ],
   "source": [
    "for i in range(1,11,2):\n",
    "    print(i)"
   ]
  },
  {
   "cell_type": "code",
   "execution_count": null,
   "id": "97dc0499-5505-4c84-8e9c-7b6d343c720f",
   "metadata": {},
   "outputs": [],
   "source": []
  }
 ],
 "metadata": {
  "kernelspec": {
   "display_name": "Python 3 (ipykernel)",
   "language": "python",
   "name": "python3"
  },
  "language_info": {
   "codemirror_mode": {
    "name": "ipython",
    "version": 3
   },
   "file_extension": ".py",
   "mimetype": "text/x-python",
   "name": "python",
   "nbconvert_exporter": "python",
   "pygments_lexer": "ipython3",
   "version": "3.10.8"
  }
 },
 "nbformat": 4,
 "nbformat_minor": 5
}
