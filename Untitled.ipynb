{
 "cells": [
  {
   "cell_type": "code",
   "execution_count": 1,
   "id": "955dc78c-638d-401b-9dce-1c07be73c25e",
   "metadata": {},
   "outputs": [
    {
     "name": "stdin",
     "output_type": "stream",
     "text": [
      " vanshika\n"
     ]
    }
   ],
   "source": [
    "d = input()"
   ]
  },
  {
   "cell_type": "code",
   "execution_count": 2,
   "id": "06f0ef7a-1723-4f26-81b6-de3ba5ebaa7c",
   "metadata": {},
   "outputs": [
    {
     "data": {
      "text/plain": [
       "'vanshika'"
      ]
     },
     "execution_count": 2,
     "metadata": {},
     "output_type": "execute_result"
    }
   ],
   "source": [
    "d"
   ]
  },
  {
   "cell_type": "code",
   "execution_count": 3,
   "id": "1d8d0b48-8296-4010-aa15-f81b35aebd41",
   "metadata": {},
   "outputs": [
    {
     "data": {
      "text/plain": [
       "str"
      ]
     },
     "execution_count": 3,
     "metadata": {},
     "output_type": "execute_result"
    }
   ],
   "source": [
    "type(d)"
   ]
  },
  {
   "cell_type": "code",
   "execution_count": 4,
   "id": "b59794b1-18bc-4af9-9265-3d345a6341b6",
   "metadata": {},
   "outputs": [
    {
     "name": "stdin",
     "output_type": "stream",
     "text": [
      " true\n"
     ]
    }
   ],
   "source": [
    "d = bool(input())"
   ]
  },
  {
   "cell_type": "code",
   "execution_count": 5,
   "id": "ed97d6ee-7a65-4f78-aa03-59de07139230",
   "metadata": {},
   "outputs": [
    {
     "data": {
      "text/plain": [
       "True"
      ]
     },
     "execution_count": 5,
     "metadata": {},
     "output_type": "execute_result"
    }
   ],
   "source": [
    "d"
   ]
  },
  {
   "cell_type": "code",
   "execution_count": 6,
   "id": "ecbf5cf2-7854-4c7d-8676-814f6eeea0f4",
   "metadata": {},
   "outputs": [
    {
     "data": {
      "text/plain": [
       "bool"
      ]
     },
     "execution_count": 6,
     "metadata": {},
     "output_type": "execute_result"
    }
   ],
   "source": [
    "type(d)"
   ]
  },
  {
   "cell_type": "code",
   "execution_count": 7,
   "id": "74ae9c5b-ba33-4c4d-a357-f6bd066e5c48",
   "metadata": {},
   "outputs": [
    {
     "name": "stdin",
     "output_type": "stream",
     "text": [
      " 33.99\n"
     ]
    }
   ],
   "source": [
    "b = float(input())"
   ]
  },
  {
   "cell_type": "code",
   "execution_count": 8,
   "id": "8bc75cfd-767e-4f6a-b3ce-59c578e2fc4d",
   "metadata": {},
   "outputs": [
    {
     "data": {
      "text/plain": [
       "33.99"
      ]
     },
     "execution_count": 8,
     "metadata": {},
     "output_type": "execute_result"
    }
   ],
   "source": [
    "b"
   ]
  },
  {
   "cell_type": "code",
   "execution_count": 9,
   "id": "40daef63-4312-4d97-a894-f61f8cc56276",
   "metadata": {},
   "outputs": [
    {
     "data": {
      "text/plain": [
       "float"
      ]
     },
     "execution_count": 9,
     "metadata": {},
     "output_type": "execute_result"
    }
   ],
   "source": [
    "type(b)"
   ]
  },
  {
   "cell_type": "code",
   "execution_count": 10,
   "id": "7ae9bf74-6e6e-458f-ace0-b4d1b62741f0",
   "metadata": {},
   "outputs": [],
   "source": [
    "s = 'vanshika'"
   ]
  },
  {
   "cell_type": "code",
   "execution_count": 11,
   "id": "e045b874-c3fb-4b3b-babe-5a43832080b3",
   "metadata": {},
   "outputs": [
    {
     "data": {
      "text/plain": [
       "'a'"
      ]
     },
     "execution_count": 11,
     "metadata": {},
     "output_type": "execute_result"
    }
   ],
   "source": [
    "s[1]"
   ]
  },
  {
   "cell_type": "code",
   "execution_count": 12,
   "id": "a957c2ad-82fd-4dfc-97e7-d0b52f9aba7f",
   "metadata": {},
   "outputs": [
    {
     "data": {
      "text/plain": [
       "'s'"
      ]
     },
     "execution_count": 12,
     "metadata": {},
     "output_type": "execute_result"
    }
   ],
   "source": [
    "s[3]"
   ]
  },
  {
   "cell_type": "code",
   "execution_count": 13,
   "id": "63c1cc4e-6b8b-4d04-b59b-588541f687f9",
   "metadata": {},
   "outputs": [
    {
     "ename": "IndexError",
     "evalue": "string index out of range",
     "output_type": "error",
     "traceback": [
      "\u001b[0;31m---------------------------------------------------------------------------\u001b[0m",
      "\u001b[0;31mIndexError\u001b[0m                                Traceback (most recent call last)",
      "Cell \u001b[0;32mIn[13], line 1\u001b[0m\n\u001b[0;32m----> 1\u001b[0m \u001b[43ms\u001b[49m\u001b[43m[\u001b[49m\u001b[38;5;241;43m100\u001b[39;49m\u001b[43m]\u001b[49m\n",
      "\u001b[0;31mIndexError\u001b[0m: string index out of range"
     ]
    }
   ],
   "source": [
    "s[100]"
   ]
  },
  {
   "cell_type": "code",
   "execution_count": 14,
   "id": "e73a990f-9864-40e5-9d4a-ef22970ebbd7",
   "metadata": {},
   "outputs": [
    {
     "data": {
      "text/plain": [
       "'a'"
      ]
     },
     "execution_count": 14,
     "metadata": {},
     "output_type": "execute_result"
    }
   ],
   "source": [
    "s[-1]"
   ]
  },
  {
   "cell_type": "code",
   "execution_count": 15,
   "id": "e485b8b8-1c88-4359-a4c4-d478c48560e2",
   "metadata": {},
   "outputs": [
    {
     "data": {
      "text/plain": [
       "'h'"
      ]
     },
     "execution_count": 15,
     "metadata": {},
     "output_type": "execute_result"
    }
   ],
   "source": [
    "s[-4]"
   ]
  },
  {
   "cell_type": "code",
   "execution_count": 16,
   "id": "efe34d2c-faa6-421e-b466-f84f745eb356",
   "metadata": {},
   "outputs": [
    {
     "ename": "IndexError",
     "evalue": "string index out of range",
     "output_type": "error",
     "traceback": [
      "\u001b[0;31m---------------------------------------------------------------------------\u001b[0m",
      "\u001b[0;31mIndexError\u001b[0m                                Traceback (most recent call last)",
      "Cell \u001b[0;32mIn[16], line 1\u001b[0m\n\u001b[0;32m----> 1\u001b[0m \u001b[43ms\u001b[49m\u001b[43m[\u001b[49m\u001b[38;5;241;43m-\u001b[39;49m\u001b[38;5;241;43m345\u001b[39;49m\u001b[43m]\u001b[49m\n",
      "\u001b[0;31mIndexError\u001b[0m: string index out of range"
     ]
    }
   ],
   "source": [
    "s[-345]"
   ]
  },
  {
   "cell_type": "code",
   "execution_count": 17,
   "id": "feb3c218-c980-4787-a966-b89a5e20f5a7",
   "metadata": {},
   "outputs": [],
   "source": [
    "s1 = 'pwskills'"
   ]
  },
  {
   "cell_type": "code",
   "execution_count": 19,
   "id": "e173a1c5-5113-45db-bcfd-32f86bc2c104",
   "metadata": {},
   "outputs": [
    {
     "data": {
      "text/plain": [
       "'pw'"
      ]
     },
     "execution_count": 19,
     "metadata": {},
     "output_type": "execute_result"
    }
   ],
   "source": [
    "s1[:2]"
   ]
  },
  {
   "cell_type": "code",
   "execution_count": 20,
   "id": "6de0e56c-ba77-454b-b8d5-ee84b4196468",
   "metadata": {},
   "outputs": [
    {
     "data": {
      "text/plain": [
       "'skill'"
      ]
     },
     "execution_count": 20,
     "metadata": {},
     "output_type": "execute_result"
    }
   ],
   "source": [
    "s1[2:7]"
   ]
  },
  {
   "cell_type": "code",
   "execution_count": 1,
   "id": "c9d3806b-0aa4-4d1a-997d-77a4f3684961",
   "metadata": {},
   "outputs": [],
   "source": [
    "s = {}"
   ]
  },
  {
   "cell_type": "code",
   "execution_count": 2,
   "id": "73e27194-dbd8-4a15-88b3-ca1f50b92512",
   "metadata": {},
   "outputs": [
    {
     "data": {
      "text/plain": [
       "dict"
      ]
     },
     "execution_count": 2,
     "metadata": {},
     "output_type": "execute_result"
    }
   ],
   "source": [
    "type(s)"
   ]
  },
  {
   "cell_type": "code",
   "execution_count": 6,
   "id": "8a4e5fc7-e94f-456a-a32f-65fbe83a31f9",
   "metadata": {},
   "outputs": [],
   "source": [
    "s1 = {1,2,3,4,5,3,3,5,5}"
   ]
  },
  {
   "cell_type": "code",
   "execution_count": 7,
   "id": "7f71ba59-bdb1-4349-82b4-7fd3c735acf8",
   "metadata": {},
   "outputs": [
    {
     "data": {
      "text/plain": [
       "set"
      ]
     },
     "execution_count": 7,
     "metadata": {},
     "output_type": "execute_result"
    }
   ],
   "source": [
    "type(s1)"
   ]
  },
  {
   "cell_type": "code",
   "execution_count": 8,
   "id": "4de433fe-d44b-4ba5-b58e-602cc7e6be3b",
   "metadata": {},
   "outputs": [
    {
     "data": {
      "text/plain": [
       "{1, 2, 3, 4, 5}"
      ]
     },
     "execution_count": 8,
     "metadata": {},
     "output_type": "execute_result"
    }
   ],
   "source": [
    "s1"
   ]
  },
  {
   "cell_type": "code",
   "execution_count": 9,
   "id": "0630770a-8a60-4160-abdf-b03e938917fa",
   "metadata": {},
   "outputs": [],
   "source": [
    "s2 = {\"van\",\"Van\",\"van\",1,3,5,4,6,3,4,5,}"
   ]
  },
  {
   "cell_type": "code",
   "execution_count": 10,
   "id": "1658431d-0684-4407-a9f2-9b0873a4d44a",
   "metadata": {},
   "outputs": [
    {
     "data": {
      "text/plain": [
       "{1, 3, 4, 5, 6, 'Van', 'van'}"
      ]
     },
     "execution_count": 10,
     "metadata": {},
     "output_type": "execute_result"
    }
   ],
   "source": [
    "s2"
   ]
  },
  {
   "cell_type": "code",
   "execution_count": 11,
   "id": "3d5e57fa-ace2-47e3-b00a-71ad34b4c48f",
   "metadata": {},
   "outputs": [],
   "source": [
    "d1 = {\"name\": \"Vanshika\",\"subect\":\"sdhds\",\"hsbdhd\":127373}"
   ]
  },
  {
   "cell_type": "code",
   "execution_count": 12,
   "id": "064e9946-88e3-4641-90b3-fc6875061e2c",
   "metadata": {},
   "outputs": [
    {
     "data": {
      "text/plain": [
       "{'name': 'Vanshika', 'subect': 'sdhds', 'hsbdhd': 127373}"
      ]
     },
     "execution_count": 12,
     "metadata": {},
     "output_type": "execute_result"
    }
   ],
   "source": [
    "d1"
   ]
  },
  {
   "cell_type": "code",
   "execution_count": 13,
   "id": "0ca2bc8e-ea91-4cf7-96f6-81187b1fcb2b",
   "metadata": {},
   "outputs": [
    {
     "data": {
      "text/plain": [
       "dict_keys(['name', 'subect', 'hsbdhd'])"
      ]
     },
     "execution_count": 13,
     "metadata": {},
     "output_type": "execute_result"
    }
   ],
   "source": [
    "d1.keys()"
   ]
  },
  {
   "cell_type": "code",
   "execution_count": 14,
   "id": "24712979-2406-4301-b240-b53b59a9bd81",
   "metadata": {},
   "outputs": [
    {
     "data": {
      "text/plain": [
       "dict_values(['Vanshika', 'sdhds', 127373])"
      ]
     },
     "execution_count": 14,
     "metadata": {},
     "output_type": "execute_result"
    }
   ],
   "source": [
    "d1.values()"
   ]
  },
  {
   "cell_type": "code",
   "execution_count": 15,
   "id": "6e64431a-2e1a-4a42-8e2e-fe7a7b5aaa46",
   "metadata": {},
   "outputs": [
    {
     "data": {
      "text/plain": [
       "dict_items([('name', 'Vanshika'), ('subect', 'sdhds'), ('hsbdhd', 127373)])"
      ]
     },
     "execution_count": 15,
     "metadata": {},
     "output_type": "execute_result"
    }
   ],
   "source": [
    "d1.items()"
   ]
  },
  {
   "cell_type": "code",
   "execution_count": 16,
   "id": "3e2a17c1-da24-4ab2-a54f-59522197bd8a",
   "metadata": {},
   "outputs": [],
   "source": [
    "d2 = {\"name\":\"badb\",\"name\":\"sdbd\"}"
   ]
  },
  {
   "cell_type": "code",
   "execution_count": 17,
   "id": "14af29ba-40dc-4cec-81c9-5a3ec6f502ee",
   "metadata": {},
   "outputs": [
    {
     "data": {
      "text/plain": [
       "{'name': 'sdbd'}"
      ]
     },
     "execution_count": 17,
     "metadata": {},
     "output_type": "execute_result"
    }
   ],
   "source": [
    "d2"
   ]
  },
  {
   "cell_type": "code",
   "execution_count": 19,
   "id": "46e602ab-f86b-4b4d-a768-f6301fd9f7c1",
   "metadata": {},
   "outputs": [
    {
     "data": {
      "text/plain": [
       "'Vanshika'"
      ]
     },
     "execution_count": 19,
     "metadata": {},
     "output_type": "execute_result"
    }
   ],
   "source": [
    "d1['name']"
   ]
  },
  {
   "cell_type": "code",
   "execution_count": 20,
   "id": "fc3655c9-b00f-4853-bf19-fb6a80d72589",
   "metadata": {},
   "outputs": [],
   "source": [
    "d3 = {2232:\"feff\"}"
   ]
  },
  {
   "cell_type": "code",
   "execution_count": 21,
   "id": "41ec77f3-5e60-4b0a-b8a2-8ec3a9bfb7b1",
   "metadata": {},
   "outputs": [],
   "source": [
    "d4 = {\"course\":[\"dsd\",\"hg\",\"fcgc\"]}"
   ]
  },
  {
   "cell_type": "code",
   "execution_count": 1,
   "id": "c728a65a-5da9-4016-9c16-b2fa32dbf5f9",
   "metadata": {},
   "outputs": [],
   "source": [
    "x = 10\n",
    "x = x + 5"
   ]
  },
  {
   "cell_type": "code",
   "execution_count": 2,
   "id": "423ebb72-f70c-4af0-98d3-9b8e12fd2a93",
   "metadata": {},
   "outputs": [
    {
     "data": {
      "text/plain": [
       "15"
      ]
     },
     "execution_count": 2,
     "metadata": {},
     "output_type": "execute_result"
    }
   ],
   "source": [
    "x"
   ]
  },
  {
   "cell_type": "code",
   "execution_count": 4,
   "id": "28f97c2f-b18d-4162-b4c8-1ac2b68612d6",
   "metadata": {},
   "outputs": [
    {
     "ename": "AttributeError",
     "evalue": "'str' object has no attribute 'contains'",
     "output_type": "error",
     "traceback": [
      "\u001b[0;31m---------------------------------------------------------------------------\u001b[0m",
      "\u001b[0;31mAttributeError\u001b[0m                            Traceback (most recent call last)",
      "Cell \u001b[0;32mIn[4], line 3\u001b[0m\n\u001b[1;32m      1\u001b[0m word \u001b[38;5;241m=\u001b[39m \u001b[38;5;124m\"\u001b[39m\u001b[38;5;124mPython\u001b[39m\u001b[38;5;124m\"\u001b[39m\n\u001b[0;32m----> 3\u001b[0m \u001b[43mword\u001b[49m\u001b[38;5;241;43m.\u001b[39;49m\u001b[43mcontains\u001b[49m(\u001b[38;5;124m\"\u001b[39m\u001b[38;5;124mon\u001b[39m\u001b[38;5;124m\"\u001b[39m)  \n",
      "\u001b[0;31mAttributeError\u001b[0m: 'str' object has no attribute 'contains'"
     ]
    }
   ],
   "source": [
    "word = \"Python\"\n",
    "\n",
    "word.contains(\"on\")  "
   ]
  },
  {
   "cell_type": "code",
   "execution_count": 5,
   "id": "f93f8c38-2309-4c00-9576-c284fc088b28",
   "metadata": {},
   "outputs": [
    {
     "data": {
      "text/plain": [
       "True"
      ]
     },
     "execution_count": 5,
     "metadata": {},
     "output_type": "execute_result"
    }
   ],
   "source": [
    "\"on\" in word"
   ]
  },
  {
   "cell_type": "code",
   "execution_count": 6,
   "id": "05a5a990-2355-4510-b530-1a83e51286d0",
   "metadata": {},
   "outputs": [],
   "source": [
    "string = \"\"\"This is a multi-line string.\"\"\""
   ]
  },
  {
   "cell_type": "code",
   "execution_count": 7,
   "id": "4f127934-5cf9-4d3d-bfe3-43e474c878bf",
   "metadata": {},
   "outputs": [
    {
     "data": {
      "text/plain": [
       "'This is a multi-line string.'"
      ]
     },
     "execution_count": 7,
     "metadata": {},
     "output_type": "execute_result"
    }
   ],
   "source": [
    "string"
   ]
  },
  {
   "cell_type": "code",
   "execution_count": 8,
   "id": "cc3f97dc-92b9-4818-b95a-70288ea98101",
   "metadata": {},
   "outputs": [
    {
     "name": "stdout",
     "output_type": "stream",
     "text": [
      "PythonPythonPython\n"
     ]
    }
   ],
   "source": [
    "word = \"Python\"\n",
    "\n",
    "repeated_word = word * 3\n",
    "\n",
    "print(repeated_word)"
   ]
  },
  {
   "cell_type": "code",
   "execution_count": 9,
   "id": "70738f1a-344d-4a12-80aa-1314f4397131",
   "metadata": {},
   "outputs": [
    {
     "name": "stdout",
     "output_type": "stream",
     "text": [
      "World\n"
     ]
    }
   ],
   "source": [
    "message = \"Hello, World!\"\n",
    "\n",
    "print(message[-6:-1])"
   ]
  },
  {
   "cell_type": "code",
   "execution_count": 10,
   "id": "d4ae19f7-42f5-4437-838d-09a9b99eec79",
   "metadata": {},
   "outputs": [
    {
     "name": "stdout",
     "output_type": "stream",
     "text": [
      "Python\n"
     ]
    }
   ],
   "source": [
    "word = \"python\"\n",
    "\n",
    "capitalized_word = word.capitalize()\n",
    "\n",
    "print(capitalized_word)"
   ]
  },
  {
   "cell_type": "code",
   "execution_count": 11,
   "id": "89c8f640-5fde-438b-b90b-10c5edc27760",
   "metadata": {},
   "outputs": [
    {
     "name": "stdout",
     "output_type": "stream",
     "text": [
      "Hello, World!\n"
     ]
    }
   ],
   "source": [
    "text = \"   Hello, World!   \"\n",
    "\n",
    "trimmed_text = text.strip()\n",
    "\n",
    "print(trimmed_text)"
   ]
  },
  {
   "cell_type": "code",
   "execution_count": 1,
   "id": "6a14ad83-0449-4be6-aa35-e1c1b76b141c",
   "metadata": {},
   "outputs": [
    {
     "name": "stdin",
     "output_type": "stream",
     "text": [
      "enter your name HSGHSB\n"
     ]
    }
   ],
   "source": [
    "w = input(\"enter your name\")"
   ]
  },
  {
   "cell_type": "code",
   "execution_count": 2,
   "id": "c9a9600d-4f4f-4139-9f64-d01dd6c9c94e",
   "metadata": {},
   "outputs": [
    {
     "data": {
      "text/plain": [
       "'HSGHSB'"
      ]
     },
     "execution_count": 2,
     "metadata": {},
     "output_type": "execute_result"
    }
   ],
   "source": [
    "w"
   ]
  },
  {
   "cell_type": "code",
   "execution_count": 3,
   "id": "51d82b61-2ee1-4d24-a191-7cb240832f31",
   "metadata": {},
   "outputs": [
    {
     "name": "stdout",
     "output_type": "stream",
     "text": [
      "HSGHSB\n"
     ]
    }
   ],
   "source": [
    "print(w)"
   ]
  },
  {
   "cell_type": "code",
   "execution_count": 4,
   "id": "b43fa75d-978e-4d26-9030-30e157dda239",
   "metadata": {},
   "outputs": [
    {
     "name": "stdout",
     "output_type": "stream",
     "text": [
      "pwsills\n"
     ]
    }
   ],
   "source": [
    "print(\"pwsills\")"
   ]
  },
  {
   "cell_type": "code",
   "execution_count": 7,
   "id": "fc9e24bc-6e03-4cf4-a69c-b430aadbee58",
   "metadata": {},
   "outputs": [
    {
     "name": "stdout",
     "output_type": "stream",
     "text": [
      "dsg shdhs hxbch\n"
     ]
    }
   ],
   "source": [
    "x= \"dsg\"\n",
    "y = \"hxbch\"\n",
    "\n",
    "\n",
    "print(f\"{x} shdhs {y}\")"
   ]
  },
  {
   "cell_type": "code",
   "execution_count": 12,
   "id": "6a6d6b79-c405-416d-90af-688f89e91059",
   "metadata": {},
   "outputs": [
    {
     "name": "stdout",
     "output_type": "stream",
     "text": [
      "sbd and dsdcs\n"
     ]
    }
   ],
   "source": [
    "print(\"{} and {}\".format(\"sbd\",\"dsdcs\"))"
   ]
  },
  {
   "cell_type": "code",
   "execution_count": 13,
   "id": "64c97c15-123c-42a8-94fe-52fcfa9f983c",
   "metadata": {},
   "outputs": [],
   "source": [
    "a = [1,2,3]"
   ]
  },
  {
   "cell_type": "code",
   "execution_count": 14,
   "id": "5918883c-5376-4e46-af68-24f4e484c5ba",
   "metadata": {},
   "outputs": [],
   "source": [
    "b = a "
   ]
  },
  {
   "cell_type": "code",
   "execution_count": 15,
   "id": "00f7eaee-ad1a-4845-b13c-262c8ef0bbd4",
   "metadata": {},
   "outputs": [
    {
     "data": {
      "text/plain": [
       "True"
      ]
     },
     "execution_count": 15,
     "metadata": {},
     "output_type": "execute_result"
    }
   ],
   "source": [
    "a is b"
   ]
  },
  {
   "cell_type": "code",
   "execution_count": 16,
   "id": "f6a5f1e7-d906-4698-af28-e6b5c03fe6c0",
   "metadata": {},
   "outputs": [
    {
     "data": {
      "text/plain": [
       "True"
      ]
     },
     "execution_count": 16,
     "metadata": {},
     "output_type": "execute_result"
    }
   ],
   "source": [
    "a == b"
   ]
  },
  {
   "cell_type": "code",
   "execution_count": 19,
   "id": "94b9a2f5-172a-4b84-8b0a-2e0914724088",
   "metadata": {},
   "outputs": [
    {
     "name": "stdin",
     "output_type": "stream",
     "text": [
      " 10\n"
     ]
    }
   ],
   "source": [
    "a = int(input())"
   ]
  },
  {
   "cell_type": "code",
   "execution_count": 20,
   "id": "7b6d9655-490d-4b59-a3c5-9ac9b03144ab",
   "metadata": {},
   "outputs": [],
   "source": [
    "y = 3**35/a"
   ]
  },
  {
   "cell_type": "code",
   "execution_count": 21,
   "id": "193e5774-7f17-406d-906b-ac36dd32d9d2",
   "metadata": {},
   "outputs": [
    {
     "name": "stdout",
     "output_type": "stream",
     "text": [
      "5003154509899971.0\n"
     ]
    }
   ],
   "source": [
    "print(y)"
   ]
  },
  {
   "cell_type": "code",
   "execution_count": 22,
   "id": "843a8569-6ae2-47b2-9e5d-5f85636ba879",
   "metadata": {},
   "outputs": [],
   "source": [
    " a = 10"
   ]
  },
  {
   "cell_type": "code",
   "execution_count": 23,
   "id": "d3d1861e-654d-41bf-881c-9f604296117c",
   "metadata": {},
   "outputs": [
    {
     "data": {
      "text/plain": [
       "5"
      ]
     },
     "execution_count": 23,
     "metadata": {},
     "output_type": "execute_result"
    }
   ],
   "source": [
    "a >> 1"
   ]
  },
  {
   "cell_type": "code",
   "execution_count": 24,
   "id": "06aa85a5-e336-4b70-98bc-bd47289068d2",
   "metadata": {},
   "outputs": [
    {
     "data": {
      "text/plain": [
       "20"
      ]
     },
     "execution_count": 24,
     "metadata": {},
     "output_type": "execute_result"
    }
   ],
   "source": [
    "a << 1"
   ]
  },
  {
   "cell_type": "code",
   "execution_count": 25,
   "id": "da840003-bd69-4c2c-b04a-ff62de2d3d51",
   "metadata": {},
   "outputs": [],
   "source": [
    "a = 3"
   ]
  },
  {
   "cell_type": "code",
   "execution_count": 26,
   "id": "c0e0d917-58db-471d-998f-1c99502732b8",
   "metadata": {},
   "outputs": [
    {
     "data": {
      "text/plain": [
       "1"
      ]
     },
     "execution_count": 26,
     "metadata": {},
     "output_type": "execute_result"
    }
   ],
   "source": [
    "a >> 1"
   ]
  },
  {
   "cell_type": "code",
   "execution_count": 27,
   "id": "0111c26e-bbb4-4ff5-a8c1-299a4489edd8",
   "metadata": {},
   "outputs": [
    {
     "data": {
      "text/plain": [
       "6"
      ]
     },
     "execution_count": 27,
     "metadata": {},
     "output_type": "execute_result"
    }
   ],
   "source": [
    "a << 1"
   ]
  },
  {
   "cell_type": "code",
   "execution_count": 28,
   "id": "cd29aefb-6db1-46b8-8465-bba2fbeef4aa",
   "metadata": {},
   "outputs": [],
   "source": [
    "a = 9"
   ]
  },
  {
   "cell_type": "code",
   "execution_count": 29,
   "id": "fd7f902a-e32d-47e9-9cae-b2d76f8adedf",
   "metadata": {},
   "outputs": [
    {
     "data": {
      "text/plain": [
       "4"
      ]
     },
     "execution_count": 29,
     "metadata": {},
     "output_type": "execute_result"
    }
   ],
   "source": [
    "a>>1"
   ]
  },
  {
   "cell_type": "code",
   "execution_count": 30,
   "id": "b6c5b9d5-12f4-4f68-b7b4-7afe872ca36b",
   "metadata": {},
   "outputs": [
    {
     "data": {
      "text/plain": [
       "18"
      ]
     },
     "execution_count": 30,
     "metadata": {},
     "output_type": "execute_result"
    }
   ],
   "source": [
    "a<<1"
   ]
  },
  {
   "cell_type": "code",
   "execution_count": 1,
   "id": "9c191873-460f-4980-8203-f896a7c263e3",
   "metadata": {},
   "outputs": [],
   "source": [
    "a = True"
   ]
  },
  {
   "cell_type": "code",
   "execution_count": 2,
   "id": "bf65fbc3-c466-47c6-8d11-2fb6a1a586b9",
   "metadata": {},
   "outputs": [
    {
     "data": {
      "text/plain": [
       "False"
      ]
     },
     "execution_count": 2,
     "metadata": {},
     "output_type": "execute_result"
    }
   ],
   "source": [
    "not(a)"
   ]
  },
  {
   "cell_type": "code",
   "execution_count": 3,
   "id": "7a91f02e-d65e-413e-a239-334837059ca2",
   "metadata": {},
   "outputs": [],
   "source": [
    "a = False"
   ]
  },
  {
   "cell_type": "code",
   "execution_count": 4,
   "id": "115649c1-9a9a-40e7-a94e-49af9bc29b22",
   "metadata": {},
   "outputs": [
    {
     "data": {
      "text/plain": [
       "True"
      ]
     },
     "execution_count": 4,
     "metadata": {},
     "output_type": "execute_result"
    }
   ],
   "source": [
    "not(a)"
   ]
  },
  {
   "cell_type": "code",
   "execution_count": 5,
   "id": "57c131fc-39d6-47f4-9e5c-8b3e820b6f1a",
   "metadata": {},
   "outputs": [
    {
     "data": {
      "text/plain": [
       "'0b1010'"
      ]
     },
     "execution_count": 5,
     "metadata": {},
     "output_type": "execute_result"
    }
   ],
   "source": [
    "bin(10)"
   ]
  },
  {
   "cell_type": "code",
   "execution_count": 6,
   "id": "6807c6be-a4de-41ea-b44d-8877e69cd74f",
   "metadata": {},
   "outputs": [],
   "source": [
    "a = 10\n",
    "b = 4"
   ]
  },
  {
   "cell_type": "code",
   "execution_count": 7,
   "id": "5c1dd52f-4b70-4fb2-b5a5-519dfd7bb308",
   "metadata": {},
   "outputs": [
    {
     "data": {
      "text/plain": [
       "'0b1010'"
      ]
     },
     "execution_count": 7,
     "metadata": {},
     "output_type": "execute_result"
    }
   ],
   "source": [
    "bin(a)"
   ]
  },
  {
   "cell_type": "code",
   "execution_count": 8,
   "id": "f29eb1ef-6de3-4419-8638-602276fc5b8a",
   "metadata": {},
   "outputs": [
    {
     "data": {
      "text/plain": [
       "'0b100'"
      ]
     },
     "execution_count": 8,
     "metadata": {},
     "output_type": "execute_result"
    }
   ],
   "source": [
    "bin(b)"
   ]
  },
  {
   "cell_type": "code",
   "execution_count": null,
   "id": "9621f414-899c-49ef-ac8e-381228c4070d",
   "metadata": {},
   "outputs": [],
   "source": []
  }
 ],
 "metadata": {
  "kernelspec": {
   "display_name": "Python 3 (ipykernel)",
   "language": "python",
   "name": "python3"
  },
  "language_info": {
   "codemirror_mode": {
    "name": "ipython",
    "version": 3
   },
   "file_extension": ".py",
   "mimetype": "text/x-python",
   "name": "python",
   "nbconvert_exporter": "python",
   "pygments_lexer": "ipython3",
   "version": "3.10.8"
  }
 },
 "nbformat": 4,
 "nbformat_minor": 5
}
