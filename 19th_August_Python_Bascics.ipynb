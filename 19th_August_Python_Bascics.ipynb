{
 "cells": [
  {
   "cell_type": "markdown",
   "id": "47683c15-99b0-498f-b116-5a80fc81bb34",
   "metadata": {},
   "source": [
    "#### TOPIC: Python Basics Variable"
   ]
  },
  {
   "cell_type": "markdown",
   "id": "48636822-1872-45b0-b39d-96c814828df3",
   "metadata": {},
   "source": [
    "##### 1. Declare two variables, `x` and `y`, and assign them integer values.Swap the values of these variables without using any temporary variable."
   ]
  },
  {
   "cell_type": "code",
   "execution_count": 8,
   "id": "fa6ff8b0-1127-48d6-842c-8de849651dea",
   "metadata": {},
   "outputs": [
    {
     "name": "stdout",
     "output_type": "stream",
     "text": [
      "After swapping:\n",
      "x = 10\n",
      "y = 5\n"
     ]
    }
   ],
   "source": [
    "# Declaring variables\n",
    "x = 5\n",
    "y = 10\n",
    "\n",
    "# assigning\n",
    "x,y = y,x\n",
    "\n",
    "print(\"After swapping:\")\n",
    "print(\"x =\", x)\n",
    "print(\"y =\", y)"
   ]
  },
  {
   "cell_type": "markdown",
   "id": "b26ef32e-a348-42a2-beab-25b50f6661a1",
   "metadata": {},
   "source": [
    "##### 2. Create a program that calculates the area of a rectangle. Take the length and width as inputs from the user and store them in variables.Calculate and display the area."
   ]
  },
  {
   "cell_type": "code",
   "execution_count": 10,
   "id": "bf9a1a05-3df6-4643-9897-cd5e9bbdcfd6",
   "metadata": {},
   "outputs": [
    {
     "name": "stdin",
     "output_type": "stream",
     "text": [
      "Enter the length of the rectangle:  20\n",
      "Enter the width of the rectangle:  25\n"
     ]
    },
    {
     "name": "stdout",
     "output_type": "stream",
     "text": [
      "The area of the rectangle with length 20.0 and width 25.0 is 500.0\n"
     ]
    }
   ],
   "source": [
    "# Taking input from the user\n",
    "length = float(input(\"Enter the length of the rectangle: \"))\n",
    "width = float(input(\"Enter the width of the rectangle: \"))\n",
    "\n",
    "# Calculating the area of the rectangle: Area = length × width\n",
    "area = length * width\n",
    "\n",
    "# Displaying the result\n",
    "print(f\"The area of the rectangle with length {length} and width {width} is {area}\")"
   ]
  },
  {
   "cell_type": "markdown",
   "id": "2092e3dc-f9ec-42c1-a258-474a59689d4d",
   "metadata": {},
   "source": [
    "##### 3. Write a Python program that converts temperature from Celsius to Fahrenheit. Take the temperature in Celsius as input, store it in a variable, convert it to Fahrenheit, and display the result."
   ]
  },
  {
   "cell_type": "code",
   "execution_count": 9,
   "id": "27f29322-9751-4505-8d12-cb9ed766c074",
   "metadata": {},
   "outputs": [
    {
     "name": "stdin",
     "output_type": "stream",
     "text": [
      "Enter temperature in Celsius:  20\n"
     ]
    },
    {
     "name": "stdout",
     "output_type": "stream",
     "text": [
      "20.0 degrees Celsius is equal to 68.0 degrees Fahrenheit\n"
     ]
    }
   ],
   "source": [
    "# Taking input from the user\n",
    "celsius = float(input(\"Enter temperature in Celsius: \"))\n",
    "\n",
    "# Conversion formula from Celsius to Fahrenheit: F = (C × 9/5) + 32\n",
    "fahrenheit = (celsius * 9/5) + 32\n",
    "\n",
    "# Displaying the result\n",
    "print(f\"{celsius} degrees Celsius is equal to {fahrenheit} degrees Fahrenheit\")"
   ]
  },
  {
   "cell_type": "markdown",
   "id": "8581170e-da96-484b-a695-bbae9de6ce8c",
   "metadata": {},
   "source": [
    "#### TOPIC: String Based Questions"
   ]
  },
  {
   "cell_type": "markdown",
   "id": "4cb33b51-bb60-4046-9aa6-8811e255eece",
   "metadata": {},
   "source": [
    "##### 1. Write a Python program that takes a string as input and prints the length of the string."
   ]
  },
  {
   "cell_type": "code",
   "execution_count": 11,
   "id": "6b519c9b-48c8-4b80-913b-7e27dba923f1",
   "metadata": {},
   "outputs": [
    {
     "name": "stdin",
     "output_type": "stream",
     "text": [
      "Enter a string:  Assignment\n"
     ]
    },
    {
     "name": "stdout",
     "output_type": "stream",
     "text": [
      "The length of the input string is: 10\n"
     ]
    }
   ],
   "source": [
    "# Taking input from the user\n",
    "input_string = input(\"Enter a string: \")\n",
    "\n",
    "# Calculating the length of the string\n",
    "string_length = len(input_string)\n",
    "\n",
    "# Displaying the result\n",
    "print(f\"The length of the input string is: {string_length}\")"
   ]
  },
  {
   "cell_type": "markdown",
   "id": "0a1aa9c8-8119-46ce-b476-ebd2885078ea",
   "metadata": {},
   "source": [
    "##### 2. Create a program that takes a sentence from the user and counts the number of vowels (a, e, i, o, u) in the string."
   ]
  },
  {
   "cell_type": "code",
   "execution_count": 20,
   "id": "fc1979cf-b08c-4dd6-88fd-10f0c5078b5f",
   "metadata": {},
   "outputs": [
    {
     "name": "stdin",
     "output_type": "stream",
     "text": [
      "Enter a sentence:  Important\n"
     ]
    },
    {
     "name": "stdout",
     "output_type": "stream",
     "text": [
      "The number of vowels in the sentence is: 3\n"
     ]
    }
   ],
   "source": [
    "# Taking input from the user\n",
    "input_sentence = input(\"Enter a sentence: \")\n",
    "\n",
    "# Converting the input sentence to lowercase for case-insensitive counting\n",
    "input_sentence = input_sentence.lower()\n",
    "\n",
    "# Initializing a variable to count vowels\n",
    "vowel_count = 0\n",
    "\n",
    "# Loop through each character in the sentence\n",
    "for char in input_sentence:\n",
    "    if char in \"aeiou\":\n",
    "        vowel_count += 1\n",
    "\n",
    "# Displaying the result\n",
    "print(f\"The number of vowels in the sentence is: {vowel_count}\")"
   ]
  },
  {
   "cell_type": "markdown",
   "id": "af19d5a2-6f86-4a03-b1b8-c8731b15c534",
   "metadata": {},
   "source": [
    "##### 3. Given a string, reverse the order of characters using string slicing and print the reversed string."
   ]
  },
  {
   "cell_type": "code",
   "execution_count": 22,
   "id": "175d0eaf-1950-47ae-8c1c-4bd0f8e69159",
   "metadata": {},
   "outputs": [
    {
     "name": "stdin",
     "output_type": "stream",
     "text": [
      "Enter a string:  sleep\n"
     ]
    },
    {
     "name": "stdout",
     "output_type": "stream",
     "text": [
      "Reversed string: peels\n"
     ]
    }
   ],
   "source": [
    "# Taking input from the user\n",
    "input_string = input(\"Enter a string: \")\n",
    "\n",
    "# Reversing the string using slicing\n",
    "reversed_string = input_string[::-1]\n",
    "\n",
    "# Displaying the reversed string\n",
    "print(\"Reversed string:\", reversed_string)\n"
   ]
  },
  {
   "cell_type": "markdown",
   "id": "88cc77f9-9f40-44d3-8da6-1704cdb68bbf",
   "metadata": {},
   "source": [
    "##### 4. Write a program that takes a string as input and checks if it is a palindrome (reads the same forwards and backwards)."
   ]
  },
  {
   "cell_type": "code",
   "execution_count": 24,
   "id": "6e04e7c7-e5a1-47bb-a1d0-d92c3af1e79d",
   "metadata": {},
   "outputs": [
    {
     "name": "stdin",
     "output_type": "stream",
     "text": [
      "Enter a string:  pip\n"
     ]
    },
    {
     "name": "stdout",
     "output_type": "stream",
     "text": [
      "The input string is a palindrome.\n"
     ]
    }
   ],
   "source": [
    "# Taking input from the user\n",
    "input_string = input(\"Enter a string: \")\n",
    "\n",
    "# Convert the input string to lowercase for case-insensitive comparison\n",
    "input_string = input_string.lower()\n",
    "\n",
    "# Reverse the string\n",
    "reversed_string = input_string[::-1]\n",
    "\n",
    "# Check if the input string is a palindrome\n",
    "if input_string == reversed_string:\n",
    "    print(\"The input string is a palindrome.\")\n",
    "else:\n",
    "    print(\"The input string is not a palindrome.\")"
   ]
  },
  {
   "cell_type": "markdown",
   "id": "914cb8ed-9a85-454f-a7e5-cb47df067784",
   "metadata": {},
   "source": [
    "##### 5. Create a program that takes a string as input and removes all the spaces from it. Print the modified string without spaces."
   ]
  },
  {
   "cell_type": "code",
   "execution_count": 30,
   "id": "a52ac64e-4efc-4d79-83ec-ec360483a2ec",
   "metadata": {},
   "outputs": [
    {
     "name": "stdin",
     "output_type": "stream",
     "text": [
      "Enter a string:          class mate    \n"
     ]
    },
    {
     "name": "stdout",
     "output_type": "stream",
     "text": [
      "Modified string without spaces: classmate\n"
     ]
    }
   ],
   "source": [
    "# Taking input from the user\n",
    "input_string = input(\"Enter a string: \")\n",
    "\n",
    "# Removing all spaces from the string using strip()\n",
    "modified_string = input_string.replace(\" \", \"\")\n",
    "\n",
    "# Displaying the modified string without spaces\n",
    "print(\"Modified string without spaces:\", modified_string)"
   ]
  },
  {
   "cell_type": "code",
   "execution_count": null,
   "id": "1c1a5125-2a2c-4930-8852-7f6cfd3ecb68",
   "metadata": {},
   "outputs": [],
   "source": []
  }
 ],
 "metadata": {
  "kernelspec": {
   "display_name": "Python 3 (ipykernel)",
   "language": "python",
   "name": "python3"
  },
  "language_info": {
   "codemirror_mode": {
    "name": "ipython",
    "version": 3
   },
   "file_extension": ".py",
   "mimetype": "text/x-python",
   "name": "python",
   "nbconvert_exporter": "python",
   "pygments_lexer": "ipython3",
   "version": "3.10.8"
  }
 },
 "nbformat": 4,
 "nbformat_minor": 5
}
