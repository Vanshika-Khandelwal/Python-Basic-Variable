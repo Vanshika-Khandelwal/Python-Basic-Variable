{
 "cells": [
  {
   "cell_type": "code",
   "execution_count": 5,
   "id": "7a784f2c-efdd-403c-88aa-45dbc4acb8a6",
   "metadata": {},
   "outputs": [],
   "source": [
    "a = (\"2\",\"3\",\"4\",\"5\",\"6\")"
   ]
  },
  {
   "cell_type": "code",
   "execution_count": 6,
   "id": "0c29e2cf-4e7f-4c16-923d-6fd31dfab774",
   "metadata": {},
   "outputs": [
    {
     "data": {
      "text/plain": [
       "('2', '3', '4', '5', '6')"
      ]
     },
     "execution_count": 6,
     "metadata": {},
     "output_type": "execute_result"
    }
   ],
   "source": [
    "a"
   ]
  },
  {
   "cell_type": "code",
   "execution_count": 8,
   "id": "2b7dcc3d-9bea-45df-abd3-79da2a1531ce",
   "metadata": {},
   "outputs": [
    {
     "data": {
      "text/plain": [
       "tuple"
      ]
     },
     "execution_count": 8,
     "metadata": {},
     "output_type": "execute_result"
    }
   ],
   "source": [
    "type(a)"
   ]
  },
  {
   "cell_type": "code",
   "execution_count": 9,
   "id": "00282953-2a60-48a5-b835-f0d5694bd4c0",
   "metadata": {},
   "outputs": [],
   "source": [
    "s = set(a)"
   ]
  },
  {
   "cell_type": "code",
   "execution_count": 10,
   "id": "ae8b73d6-4ba5-4337-9d6c-12246e9d45da",
   "metadata": {},
   "outputs": [
    {
     "data": {
      "text/plain": [
       "set"
      ]
     },
     "execution_count": 10,
     "metadata": {},
     "output_type": "execute_result"
    }
   ],
   "source": [
    "type(s)"
   ]
  },
  {
   "cell_type": "code",
   "execution_count": 11,
   "id": "dce49c9c-b1d1-4cfb-8cc7-4477124afffe",
   "metadata": {},
   "outputs": [],
   "source": [
    "s.remove(\"2\")"
   ]
  },
  {
   "cell_type": "code",
   "execution_count": 12,
   "id": "6d3df294-6b8c-40c4-9400-ac83397b27e9",
   "metadata": {},
   "outputs": [
    {
     "data": {
      "text/plain": [
       "{'3', '4', '5', '6'}"
      ]
     },
     "execution_count": 12,
     "metadata": {},
     "output_type": "execute_result"
    }
   ],
   "source": [
    "s"
   ]
  },
  {
   "cell_type": "code",
   "execution_count": 13,
   "id": "07881e52-684b-4fde-9928-fe3bbc6cc5b0",
   "metadata": {},
   "outputs": [],
   "source": [
    "s.discard(\"4\")"
   ]
  },
  {
   "cell_type": "code",
   "execution_count": 14,
   "id": "31f21727-9fe5-4c3e-8875-56abc9dee219",
   "metadata": {},
   "outputs": [
    {
     "data": {
      "text/plain": [
       "{'3', '5', '6'}"
      ]
     },
     "execution_count": 14,
     "metadata": {},
     "output_type": "execute_result"
    }
   ],
   "source": [
    "s"
   ]
  },
  {
   "cell_type": "code",
   "execution_count": 15,
   "id": "67d4230c-2ce9-487c-abb1-ecdd22942e33",
   "metadata": {},
   "outputs": [],
   "source": [
    "d = {1:2,2:4,3:6}"
   ]
  },
  {
   "cell_type": "code",
   "execution_count": 16,
   "id": "4d0ea63c-f1ec-4482-95f2-f6c936fd94b0",
   "metadata": {},
   "outputs": [
    {
     "data": {
      "text/plain": [
       "dict_keys([1, 2, 3])"
      ]
     },
     "execution_count": 16,
     "metadata": {},
     "output_type": "execute_result"
    }
   ],
   "source": [
    "d.keys()"
   ]
  },
  {
   "cell_type": "code",
   "execution_count": null,
   "id": "5f88b1fe-84a4-416d-b241-f2388c35a70b",
   "metadata": {},
   "outputs": [],
   "source": []
  },
  {
   "cell_type": "code",
   "execution_count": null,
   "id": "8980881f-40a6-4963-938b-65360f59dc7e",
   "metadata": {},
   "outputs": [],
   "source": []
  },
  {
   "cell_type": "code",
   "execution_count": null,
   "id": "ea0182da-16fc-42f3-ade8-d2d16f2be6f4",
   "metadata": {},
   "outputs": [],
   "source": []
  },
  {
   "cell_type": "code",
   "execution_count": null,
   "id": "de1334fe-fc0d-4d00-a5b9-b0961e9c1383",
   "metadata": {},
   "outputs": [],
   "source": []
  },
  {
   "cell_type": "code",
   "execution_count": 1,
   "id": "7f64149d-58fa-4e31-9732-86a195410666",
   "metadata": {},
   "outputs": [],
   "source": [
    "def test():\n",
    "    print(\"ndn nc \")"
   ]
  },
  {
   "cell_type": "code",
   "execution_count": 3,
   "id": "4732e6e4-63a0-42f6-92a8-402ee260b6eb",
   "metadata": {},
   "outputs": [
    {
     "name": "stdout",
     "output_type": "stream",
     "text": [
      "ndn nc \n"
     ]
    }
   ],
   "source": [
    "test()"
   ]
  },
  {
   "cell_type": "code",
   "execution_count": 4,
   "id": "d5e38f39-0ba9-4932-b749-3f65505c54d3",
   "metadata": {},
   "outputs": [],
   "source": [
    "def test2(a,b):\n",
    "    return a+b"
   ]
  },
  {
   "cell_type": "code",
   "execution_count": 5,
   "id": "baef3ed0-ce5e-49c4-ac59-1be425dfd995",
   "metadata": {},
   "outputs": [
    {
     "data": {
      "text/plain": [
       "7"
      ]
     },
     "execution_count": 5,
     "metadata": {},
     "output_type": "execute_result"
    }
   ],
   "source": [
    "test2(2,5)"
   ]
  },
  {
   "cell_type": "code",
   "execution_count": 6,
   "id": "c7cb0b69-9bdd-4ac8-a0b4-c5701e299f15",
   "metadata": {},
   "outputs": [],
   "source": [
    "m = lambda a,b : a+b"
   ]
  },
  {
   "cell_type": "code",
   "execution_count": 8,
   "id": "dcfed159-6376-4e1b-973e-dd5131dfd4a1",
   "metadata": {},
   "outputs": [
    {
     "data": {
      "text/plain": [
       "8"
      ]
     },
     "execution_count": 8,
     "metadata": {},
     "output_type": "execute_result"
    }
   ],
   "source": [
    "m(2,6)"
   ]
  },
  {
   "cell_type": "code",
   "execution_count": 11,
   "id": "dac43d10-c61d-4d40-a01b-9f2541c0837b",
   "metadata": {},
   "outputs": [],
   "source": [
    "def check_even(n):\n",
    "    if n%2 == 0:\n",
    "        return \"even\"\n",
    "    else:\n",
    "        return \"not even\""
   ]
  },
  {
   "cell_type": "code",
   "execution_count": 12,
   "id": "b7d292d6-18e5-402a-9252-2fd7803aabc4",
   "metadata": {},
   "outputs": [
    {
     "data": {
      "text/plain": [
       "'not even'"
      ]
     },
     "execution_count": 12,
     "metadata": {},
     "output_type": "execute_result"
    }
   ],
   "source": [
    "check_even(3)"
   ]
  },
  {
   "cell_type": "code",
   "execution_count": 13,
   "id": "e6ae1a7f-c088-49ef-9ded-0f00eab0755b",
   "metadata": {},
   "outputs": [],
   "source": [
    "n = lambda n: \"even\" if n%2 == 0 else \"not even\""
   ]
  },
  {
   "cell_type": "code",
   "execution_count": 14,
   "id": "d7ab4c4e-dcb2-4556-a029-90678042c035",
   "metadata": {},
   "outputs": [
    {
     "data": {
      "text/plain": [
       "'not even'"
      ]
     },
     "execution_count": 14,
     "metadata": {},
     "output_type": "execute_result"
    }
   ],
   "source": [
    "n(3)"
   ]
  },
  {
   "cell_type": "code",
   "execution_count": 15,
   "id": "b15c5236-387b-4123-955c-69ddbfa32ae7",
   "metadata": {},
   "outputs": [],
   "source": [
    "l = [1,4,6,7,6,4,6,8]\n",
    "min_list = lambda li : min(li)"
   ]
  },
  {
   "cell_type": "code",
   "execution_count": 17,
   "id": "fd93bdab-c3e1-4e35-b3cc-46b3b62e9f33",
   "metadata": {},
   "outputs": [
    {
     "data": {
      "text/plain": [
       "1"
      ]
     },
     "execution_count": 17,
     "metadata": {},
     "output_type": "execute_result"
    }
   ],
   "source": [
    "min_list(l)"
   ]
  },
  {
   "cell_type": "code",
   "execution_count": 18,
   "id": "13ac70ec-643b-4bcd-b29a-7b31544a34ef",
   "metadata": {},
   "outputs": [],
   "source": [
    "div = lambda a,b : a/b"
   ]
  },
  {
   "cell_type": "code",
   "execution_count": 19,
   "id": "4bfda3fc-2c51-4c5d-a350-b3e1eea8aa41",
   "metadata": {},
   "outputs": [
    {
     "data": {
      "text/plain": [
       "4.0"
      ]
     },
     "execution_count": 19,
     "metadata": {},
     "output_type": "execute_result"
    }
   ],
   "source": [
    "div(8,2)"
   ]
  },
  {
   "cell_type": "code",
   "execution_count": 20,
   "id": "155aa123-834a-41e7-86b1-f098a62ba4f1",
   "metadata": {},
   "outputs": [],
   "source": [
    "upp_str = lambda s : s.upper()"
   ]
  },
  {
   "cell_type": "code",
   "execution_count": 22,
   "id": "ea20b9cf-a14c-4c6e-b559-2fb1bcb3ba80",
   "metadata": {},
   "outputs": [
    {
     "data": {
      "text/plain": [
       "'SDFJH'"
      ]
     },
     "execution_count": 22,
     "metadata": {},
     "output_type": "execute_result"
    }
   ],
   "source": [
    "upp_str(\"sdfjh\")"
   ]
  },
  {
   "cell_type": "code",
   "execution_count": 25,
   "id": "605cade4-a6fe-4eab-9418-49190aaafb20",
   "metadata": {},
   "outputs": [],
   "source": [
    "l = l = [1,4,6,7,6,4,6,8]\n",
    "\n",
    "def sum_odd(b):\n",
    "    l1 = []\n",
    "    for i in l:\n",
    "        if i%2 != 0:\n",
    "            l1.append(i)\n",
    "    return sum(l1)\n",
    "            \n",
    "            "
   ]
  },
  {
   "cell_type": "code",
   "execution_count": 26,
   "id": "b36b3acb-ca9a-423f-aca9-93054b50dde1",
   "metadata": {},
   "outputs": [
    {
     "data": {
      "text/plain": [
       "8"
      ]
     },
     "execution_count": 26,
     "metadata": {},
     "output_type": "execute_result"
    }
   ],
   "source": [
    "sum_odd(l)"
   ]
  },
  {
   "cell_type": "code",
   "execution_count": 28,
   "id": "57cf9baa-5b98-42a2-b8fc-16226a3a4b8b",
   "metadata": {},
   "outputs": [
    {
     "data": {
      "text/plain": [
       "8"
      ]
     },
     "execution_count": 28,
     "metadata": {},
     "output_type": "execute_result"
    }
   ],
   "source": [
    "sum([i for i in l if i%2 != 0])"
   ]
  },
  {
   "cell_type": "code",
   "execution_count": 29,
   "id": "617b3b43-b08a-401a-869a-c259d04482ca",
   "metadata": {},
   "outputs": [],
   "source": [
    "sum_odd = lambda l :sum([i for i in l if i%2 != 0])"
   ]
  },
  {
   "cell_type": "code",
   "execution_count": 30,
   "id": "d81c6c91-fa18-4b46-a67e-877e38fbf8a4",
   "metadata": {},
   "outputs": [
    {
     "data": {
      "text/plain": [
       "8"
      ]
     },
     "execution_count": 30,
     "metadata": {},
     "output_type": "execute_result"
    }
   ],
   "source": [
    "sum_odd(l)"
   ]
  },
  {
   "cell_type": "code",
   "execution_count": 31,
   "id": "e545a840-c63d-44cc-893d-562472577043",
   "metadata": {},
   "outputs": [],
   "source": [
    "def fact_number(n):\n",
    "    if n == 0:\n",
    "        return 1\n",
    "    else:\n",
    "        return n*fact_number(n-1)"
   ]
  },
  {
   "cell_type": "code",
   "execution_count": 32,
   "id": "b8784c7c-fa9c-4040-97ba-77bac64ff9cc",
   "metadata": {},
   "outputs": [
    {
     "data": {
      "text/plain": [
       "24"
      ]
     },
     "execution_count": 32,
     "metadata": {},
     "output_type": "execute_result"
    }
   ],
   "source": [
    "fact_number(4)"
   ]
  },
  {
   "cell_type": "code",
   "execution_count": 33,
   "id": "dbf5ed24-aade-46fe-944e-a26442dfa754",
   "metadata": {},
   "outputs": [
    {
     "data": {
      "text/plain": [
       "1"
      ]
     },
     "execution_count": 33,
     "metadata": {},
     "output_type": "execute_result"
    }
   ],
   "source": [
    "fact_number(0)"
   ]
  },
  {
   "cell_type": "code",
   "execution_count": 36,
   "id": "3af75b16-3e45-4102-9526-61d627418465",
   "metadata": {},
   "outputs": [],
   "source": [
    "def facto(n):\n",
    "    a = 1\n",
    "    for i in range(1,n+1):\n",
    "        a = i*a\n",
    "    return a"
   ]
  },
  {
   "cell_type": "code",
   "execution_count": 37,
   "id": "95b985b0-f098-4063-b16d-d9dc28da5e51",
   "metadata": {},
   "outputs": [
    {
     "data": {
      "text/plain": [
       "120"
      ]
     },
     "execution_count": 37,
     "metadata": {},
     "output_type": "execute_result"
    }
   ],
   "source": [
    "facto(5)"
   ]
  },
  {
   "cell_type": "code",
   "execution_count": 38,
   "id": "34956ba1-caf6-48e9-857a-9563b351a6dc",
   "metadata": {},
   "outputs": [],
   "source": [
    "def add_list(l):\n",
    "    l1 =[]\n",
    "    for i in l:\n",
    "        l1.append(i+2)\n",
    "    return l1"
   ]
  },
  {
   "cell_type": "code",
   "execution_count": 39,
   "id": "ed71e6f8-5ba8-48ef-b48b-0c4c0d296774",
   "metadata": {},
   "outputs": [
    {
     "data": {
      "text/plain": [
       "[5, 6, 7, 8, 9]"
      ]
     },
     "execution_count": 39,
     "metadata": {},
     "output_type": "execute_result"
    }
   ],
   "source": [
    "add_list([3,4,5,6,7])"
   ]
  },
  {
   "cell_type": "code",
   "execution_count": 42,
   "id": "87129789-223a-4324-a947-00a6a98e8ecf",
   "metadata": {},
   "outputs": [
    {
     "data": {
      "text/plain": [
       "[3, 6, 8, 9, 8, 6, 8, 10]"
      ]
     },
     "execution_count": 42,
     "metadata": {},
     "output_type": "execute_result"
    }
   ],
   "source": [
    "list(map(lambda a : a+2,l))"
   ]
  },
  {
   "cell_type": "code",
   "execution_count": 41,
   "id": "63432031-0a04-4c4f-a842-d72fed2e672a",
   "metadata": {},
   "outputs": [
    {
     "data": {
      "text/plain": [
       "4"
      ]
     },
     "execution_count": 41,
     "metadata": {},
     "output_type": "execute_result"
    }
   ],
   "source": [
    "v(2)"
   ]
  },
  {
   "cell_type": "code",
   "execution_count": 43,
   "id": "596498b7-db65-4534-b463-9089a80c20fe",
   "metadata": {},
   "outputs": [],
   "source": [
    "def test3(c):\n",
    "    return c+2"
   ]
  },
  {
   "cell_type": "code",
   "execution_count": 44,
   "id": "d63705e2-91c4-4b83-ac2f-57f1c4c0c74f",
   "metadata": {},
   "outputs": [
    {
     "data": {
      "text/plain": [
       "[3, 6, 8, 9, 8, 6, 8, 10]"
      ]
     },
     "execution_count": 44,
     "metadata": {},
     "output_type": "execute_result"
    }
   ],
   "source": [
    "list(map(test3,l))"
   ]
  },
  {
   "cell_type": "code",
   "execution_count": 60,
   "id": "05f5ebe2-73a4-430f-8adc-405bd282f7a0",
   "metadata": {},
   "outputs": [],
   "source": [
    "l = [\"dej\",\"deew\"]"
   ]
  },
  {
   "cell_type": "code",
   "execution_count": 61,
   "id": "e79afc59-3c4a-40cf-b459-361c7d470fb9",
   "metadata": {},
   "outputs": [
    {
     "data": {
      "text/plain": [
       "[3, 4]"
      ]
     },
     "execution_count": 61,
     "metadata": {},
     "output_type": "execute_result"
    }
   ],
   "source": [
    "list(map(len ,l))"
   ]
  },
  {
   "cell_type": "code",
   "execution_count": 63,
   "id": "d80db214-b10d-4e11-95f0-2f1617476447",
   "metadata": {},
   "outputs": [],
   "source": [
    "def rever(a):\n",
    "    r = a[::-1]\n",
    "    return r"
   ]
  },
  {
   "cell_type": "code",
   "execution_count": 64,
   "id": "32cab85c-f647-4aa8-9f99-6ab795a93f42",
   "metadata": {},
   "outputs": [
    {
     "data": {
      "text/plain": [
       "['jed', 'weed']"
      ]
     },
     "execution_count": 64,
     "metadata": {},
     "output_type": "execute_result"
    }
   ],
   "source": [
    "list(map(rever,l))"
   ]
  },
  {
   "cell_type": "code",
   "execution_count": 65,
   "id": "27bef5bc-a3e8-4677-a749-6be11ae094b3",
   "metadata": {},
   "outputs": [],
   "source": [
    "l = [1,2,4,5,6]"
   ]
  },
  {
   "cell_type": "code",
   "execution_count": 66,
   "id": "aeba2866-a3a3-4f47-a08c-698ec6a1fcd2",
   "metadata": {},
   "outputs": [],
   "source": [
    "from functools import reduce"
   ]
  },
  {
   "cell_type": "code",
   "execution_count": 68,
   "id": "34c7a0db-1f78-435c-85b1-e43429909649",
   "metadata": {},
   "outputs": [
    {
     "data": {
      "text/plain": [
       "240"
      ]
     },
     "execution_count": 68,
     "metadata": {},
     "output_type": "execute_result"
    }
   ],
   "source": [
    "reduce(lambda a,b : a*b , l)"
   ]
  },
  {
   "cell_type": "code",
   "execution_count": 70,
   "id": "493054ed-776b-4b2d-8021-9590df5df141",
   "metadata": {},
   "outputs": [
    {
     "data": {
      "text/plain": [
       "1"
      ]
     },
     "execution_count": 70,
     "metadata": {},
     "output_type": "execute_result"
    }
   ],
   "source": [
    "reduce(lambda a,b: a if a<b else b , l)"
   ]
  },
  {
   "cell_type": "code",
   "execution_count": 71,
   "id": "acb4e02e-cdb7-4f60-9856-aeced3940ae8",
   "metadata": {},
   "outputs": [
    {
     "data": {
      "text/plain": [
       "6"
      ]
     },
     "execution_count": 71,
     "metadata": {},
     "output_type": "execute_result"
    }
   ],
   "source": [
    "reduce(lambda a,b: a if a>b else b , l)"
   ]
  },
  {
   "cell_type": "code",
   "execution_count": 72,
   "id": "b5e926b8-2d37-4f85-84a4-2d1929e6ba7a",
   "metadata": {},
   "outputs": [],
   "source": [
    "n = 4\n",
    "fact = reduce(lambda a,b : a*b, range(1,n+1))"
   ]
  },
  {
   "cell_type": "code",
   "execution_count": 73,
   "id": "f4546c7f-ddea-4af8-a1ee-6fe310d9d4bf",
   "metadata": {},
   "outputs": [
    {
     "data": {
      "text/plain": [
       "24"
      ]
     },
     "execution_count": 73,
     "metadata": {},
     "output_type": "execute_result"
    }
   ],
   "source": [
    "fact"
   ]
  },
  {
   "cell_type": "code",
   "execution_count": 74,
   "id": "aeb5e2f3-2093-4dd9-b7ed-d12603e1b3f7",
   "metadata": {},
   "outputs": [
    {
     "data": {
      "text/plain": [
       "48"
      ]
     },
     "execution_count": 74,
     "metadata": {},
     "output_type": "execute_result"
    }
   ],
   "source": [
    "reduce(lambda a,b : a*b ,[i for i in l if i%2 == 0]) "
   ]
  },
  {
   "cell_type": "code",
   "execution_count": 75,
   "id": "4fe9f047-5a7f-42db-8355-3cdf75deca47",
   "metadata": {},
   "outputs": [],
   "source": [
    "l = [2,4,5,6,7,8,6,6,9,1,5]"
   ]
  },
  {
   "cell_type": "code",
   "execution_count": 77,
   "id": "1a7cf974-edf3-4e03-aacc-240de7e924c8",
   "metadata": {},
   "outputs": [
    {
     "data": {
      "text/plain": [
       "[2, 4, 6, 8, 6, 6]"
      ]
     },
     "execution_count": 77,
     "metadata": {},
     "output_type": "execute_result"
    }
   ],
   "source": [
    "list(filter(lambda a : a%2 == 0,l))"
   ]
  },
  {
   "cell_type": "code",
   "execution_count": null,
   "id": "3e44d5f6-5187-4024-9842-51d9df3aa5e5",
   "metadata": {},
   "outputs": [],
   "source": []
  }
 ],
 "metadata": {
  "kernelspec": {
   "display_name": "Python 3 (ipykernel)",
   "language": "python",
   "name": "python3"
  },
  "language_info": {
   "codemirror_mode": {
    "name": "ipython",
    "version": 3
   },
   "file_extension": ".py",
   "mimetype": "text/x-python",
   "name": "python",
   "nbconvert_exporter": "python",
   "pygments_lexer": "ipython3",
   "version": "3.10.8"
  }
 },
 "nbformat": 4,
 "nbformat_minor": 5
}
