{
 "cells": [
  {
   "cell_type": "markdown",
   "id": "4513334d-c0a3-4744-b7c3-261d09792e24",
   "metadata": {},
   "source": [
    "#### TOPIC: String Based Assignment Problem\n"
   ]
  },
  {
   "cell_type": "markdown",
   "id": "323e9665-39b7-4d7c-9dc7-8b425ce8f197",
   "metadata": {},
   "source": [
    "###### 1. Write a program to reverse a string."
   ]
  },
  {
   "cell_type": "code",
   "execution_count": 1,
   "id": "31660af3-4f1b-46ef-9812-30e54378ea7f",
   "metadata": {},
   "outputs": [
    {
     "name": "stdout",
     "output_type": "stream",
     "text": [
      "nohtyP\n"
     ]
    }
   ],
   "source": [
    "# Input string\n",
    "string = \"Python\"\n",
    "\n",
    "# Reverse the string using slicing\n",
    "reversed_string = string[::-1]\n",
    "\n",
    "# Print the reversed string\n",
    "print(reversed_string)"
   ]
  },
  {
   "cell_type": "markdown",
   "id": "87260762-6f79-49f6-a4a0-2a6ca5a7547d",
   "metadata": {},
   "source": [
    "###### 2. Check if a string is a palindrome."
   ]
  },
  {
   "cell_type": "code",
   "execution_count": 22,
   "id": "8e232a72-c4c6-488d-a2aa-b9a6ef37df8d",
   "metadata": {},
   "outputs": [
    {
     "name": "stdout",
     "output_type": "stream",
     "text": [
      "'radar' is a palindrome.\n"
     ]
    }
   ],
   "source": [
    "#Input the string\n",
    "input_string = 'radar'\n",
    "\n",
    "#Reverse the string using slicing \n",
    "reversed_string = string[::-1]\n",
    "\n",
    "# Check if it's a palindrome\n",
    "if reversed_string == string:\n",
    "    print(f\"'{input_string}' is a palindrome.\")\n",
    "else:\n",
    "     print(f\"'{input_string}' is not a palindrome.\")"
   ]
  },
  {
   "cell_type": "markdown",
   "id": "3fd20f9e-75e8-4968-9eca-fb481f90d6cf",
   "metadata": {},
   "source": [
    "###### 3. Convert a string to uppercase.\n"
   ]
  },
  {
   "cell_type": "code",
   "execution_count": 29,
   "id": "a00204a2-fe0d-4a64-93b3-061a13186003",
   "metadata": {},
   "outputs": [
    {
     "name": "stdout",
     "output_type": "stream",
     "text": [
      "DRAMA\n"
     ]
    }
   ],
   "source": [
    "#Input the string\n",
    "input_string = \"drama\"\n",
    "\n",
    "#Convert string in upper case\n",
    "upper_string  = input_string.upper()\n",
    "\n",
    "#print the upper case string\n",
    "print(upper_string)"
   ]
  },
  {
   "cell_type": "markdown",
   "id": "c39a3ae7-915b-4887-9333-b26554d6564f",
   "metadata": {},
   "source": [
    "###### 4. Convert a string to lowercase."
   ]
  },
  {
   "cell_type": "code",
   "execution_count": 31,
   "id": "4a779f1c-120c-419f-8221-f30f6efa1db7",
   "metadata": {},
   "outputs": [
    {
     "name": "stdout",
     "output_type": "stream",
     "text": [
      "bottle\n"
     ]
    }
   ],
   "source": [
    "#Input the string\n",
    "input_string = \"BOTTLE\"\n",
    "\n",
    "#Convert string in lower case\n",
    "lower_string = input_string.lower()\n",
    "\n",
    "#print the lower case string\n",
    "print(lower_string)"
   ]
  },
  {
   "cell_type": "markdown",
   "id": "e8591f75-2c50-43d7-87cd-c5e18f177ab3",
   "metadata": {},
   "source": [
    "###### 5. Count the number of vowels in a string.\n"
   ]
  },
  {
   "cell_type": "code",
   "execution_count": 41,
   "id": "eeac1e2b-c7e7-43cf-818f-c428a8029554",
   "metadata": {},
   "outputs": [
    {
     "name": "stdout",
     "output_type": "stream",
     "text": [
      "3\n"
     ]
    }
   ],
   "source": [
    "# Input the string\n",
    "input_string = \"Hibiscus\"\n",
    "\n",
    "# Initialize a counter to keep track of the number of vowels\n",
    "c = 0\n",
    "\n",
    "# Iterate through each character in the input string\n",
    "for i in input_string:\n",
    "    # Check if the character is in the list of vowels ([\"a\", \"e\", \"i\", \"o\", \"u\"])\n",
    "    if i in [\"a\", \"e\", \"i\", \"o\", \"u\"]:\n",
    "        # If the character is a vowel, increment the counter\n",
    "        c += 1\n",
    "\n",
    "# Print the count of vowels in the string\n",
    "print(c)\n"
   ]
  },
  {
   "cell_type": "markdown",
   "id": "d80df418-2ee4-43d1-81ae-9d40363caff0",
   "metadata": {},
   "source": [
    "###### 6. Count the number of consonants in a string."
   ]
  },
  {
   "cell_type": "code",
   "execution_count": 43,
   "id": "06dcafc3-6273-46ab-aeb3-ab08f1de420b",
   "metadata": {},
   "outputs": [
    {
     "name": "stdout",
     "output_type": "stream",
     "text": [
      "5\n"
     ]
    }
   ],
   "source": [
    "# Input the string\n",
    "input_string = \"Hibiscus\"\n",
    "\n",
    "# Initialize a counter to keep track of the number of consonants\n",
    "c = 0\n",
    "\n",
    "# Iterate through each character in the input string\n",
    "for i in input_string:\n",
    "    # Check if the character is not in the list of vowels ([\"a\", \"e\", \"i\", \"o\", \"u\"])\n",
    "    if i not in [\"a\", \"e\", \"i\", \"o\", \"u\"]:\n",
    "        # If the character is a vowel, increment the counter\n",
    "        c += 1\n",
    "\n",
    "# Print the count of consonants in the string\n",
    "print(c)\n"
   ]
  },
  {
   "cell_type": "markdown",
   "id": "c709cae7-4eb7-4f15-87b2-bfd0eaf51927",
   "metadata": {},
   "source": [
    "###### 7. Remove all whitespaces from a string."
   ]
  },
  {
   "cell_type": "code",
   "execution_count": 48,
   "id": "1e502644-5763-4c8c-a7b7-c7abff1da18c",
   "metadata": {},
   "outputs": [
    {
     "name": "stdout",
     "output_type": "stream",
     "text": [
      "whitespaces\n"
     ]
    }
   ],
   "source": [
    "# Input string with whitespaces\n",
    "input_string = \"white spaces   \"\n",
    "\n",
    "# Remove whitespaces using the replace method\n",
    "without_space = input_string.replace(\" \",\"\")\n",
    "\n",
    "# Print the string with whitespaces removed\n",
    "print(without_space)"
   ]
  },
  {
   "cell_type": "markdown",
   "id": "dd7f7faf-0f1e-4787-b18c-668135a23b32",
   "metadata": {},
   "source": [
    "###### 8. Find the length of a string without using the `len()` function."
   ]
  },
  {
   "cell_type": "code",
   "execution_count": 52,
   "id": "587744bf-a2e9-4fbf-b704-a6cbb4f00dcf",
   "metadata": {},
   "outputs": [
    {
     "name": "stdout",
     "output_type": "stream",
     "text": [
      "11\n"
     ]
    }
   ],
   "source": [
    "#Input string\n",
    "input_string = \"Showstopper\"\n",
    "\n",
    "# Initialize a counter to keep track of the number of words\n",
    "count = 0\n",
    "\n",
    "# Iterate through each character in the input string\n",
    "for i in input_string:\n",
    "    count += 1\n",
    "\n",
    "# Print the count of words in the string\n",
    "print(count)"
   ]
  },
  {
   "cell_type": "markdown",
   "id": "1546d6d3-df4e-461a-b9c8-aa42ed130199",
   "metadata": {},
   "source": [
    "###### 9. Check if a string contains a specific word.\n"
   ]
  },
  {
   "cell_type": "code",
   "execution_count": 58,
   "id": "ed54b249-df47-4869-93d5-b622fac111f3",
   "metadata": {},
   "outputs": [
    {
     "name": "stdout",
     "output_type": "stream",
     "text": [
      "no\n"
     ]
    }
   ],
   "source": [
    "# Input string\n",
    "input_string = \"Offshore\"\n",
    "\n",
    "# Check if the character \"i\" is present in the input string\n",
    "if \"i\" in input_string:\n",
    "    # If \"i\" is found in the string, print \"yes\"\n",
    "    print(\"yes\")\n",
    "else:\n",
    "    # If \"i\" is not found in the string, print \"no\"\n",
    "    print(\"no\")"
   ]
  },
  {
   "cell_type": "markdown",
   "id": "f9cf45ff-8ac0-4e93-8ad4-37b517bda13c",
   "metadata": {},
   "source": [
    "###### 10. Replace a word in a string with another word."
   ]
  },
  {
   "cell_type": "code",
   "execution_count": 63,
   "id": "1d95d5e5-8ff0-4788-ae5f-22ec9aaaab9a",
   "metadata": {},
   "outputs": [
    {
     "name": "stdout",
     "output_type": "stream",
     "text": [
      "but\n"
     ]
    }
   ],
   "source": [
    "#Input string\n",
    "input_string = \"bat\"\n",
    "\n",
    "#change the word \"a\" with \"u\" using replace method \n",
    "changed_string = input_string.replace(\"a\",\"u\")\n",
    "\n",
    "#Print the changed string\n",
    "print(changed_string)"
   ]
  },
  {
   "cell_type": "markdown",
   "id": "b70565e8-a83c-4bed-8bfc-738e0819f138",
   "metadata": {},
   "source": [
    "###### 11. Count the occurrences of a word in a string."
   ]
  },
  {
   "cell_type": "code",
   "execution_count": 66,
   "id": "8cc8eec8-b1c5-4f37-ac6b-337513c5fb51",
   "metadata": {},
   "outputs": [
    {
     "name": "stdout",
     "output_type": "stream",
     "text": [
      "The word 'sample' occurs 2 times in the string.\n"
     ]
    }
   ],
   "source": [
    "# Input string\n",
    "input_string = \"This is a sample sentence. This sentence is a sample.\"\n",
    "\n",
    "# Word to count\n",
    "word_to_count = \"sample\"\n",
    "\n",
    "# Count occurrences using the count method\n",
    "count = input_string.count(word_to_count)\n",
    "\n",
    "# Print the count\n",
    "print(f\"The word '{word_to_count}' occurs {count} times in the string.\")"
   ]
  },
  {
   "cell_type": "markdown",
   "id": "3bb5982f-8a57-46f6-b96c-c3eef2a31e1b",
   "metadata": {},
   "source": [
    "###### 12. Find the first occurrence of a word in a string.\n"
   ]
  },
  {
   "cell_type": "code",
   "execution_count": 1,
   "id": "f7042262-316d-463b-afe3-8fe26ab18f3c",
   "metadata": {},
   "outputs": [
    {
     "name": "stdout",
     "output_type": "stream",
     "text": [
      "The first occurrence of 'example' is at index 3.\n"
     ]
    }
   ],
   "source": [
    "def find_first_occurrence(word, input_string):\n",
    "    # Split the input string into words\n",
    "    words = input_string.split()\n",
    "    \n",
    "    # Iterate through the words and find the first occurrence\n",
    "    for index, w in enumerate(words):\n",
    "        if w == word:\n",
    "            return index  # Return the index of the first occurrence\n",
    "    \n",
    "    # If the word is not found, return -1 to indicate it wasn't found\n",
    "    return -1\n",
    "\n",
    "# Example usage:\n",
    "input_string = \"This is an example sentence. This sentence contains the word 'example' twice.\"\n",
    "word_to_find = \"example\"\n",
    "\n",
    "result = find_first_occurrence(word_to_find, input_string)\n",
    "\n",
    "if result != -1:\n",
    "    print(f\"The first occurrence of '{word_to_find}' is at index {result}.\")\n",
    "else:\n",
    "    print(f\"'{word_to_find}' was not found in the input string.\")"
   ]
  },
  {
   "cell_type": "markdown",
   "id": "08de5fe9-54b8-434f-9048-d1f537a3b358",
   "metadata": {},
   "source": [
    "###### 13. Find the last occurrence of a word in a string."
   ]
  },
  {
   "cell_type": "code",
   "execution_count": 2,
   "id": "757f58f3-0055-42db-98f0-37d09039a9bd",
   "metadata": {},
   "outputs": [
    {
     "name": "stdout",
     "output_type": "stream",
     "text": [
      "The last occurrence of 'example' is at index 3.\n"
     ]
    }
   ],
   "source": [
    "def find_last_occurrence(word, input_string):\n",
    "    # Split the input string into words\n",
    "    words = input_string.split()\n",
    "    \n",
    "    # Initialize a variable to store the index of the last occurrence\n",
    "    last_index = -1\n",
    "    \n",
    "    # Iterate through the words and update the last_index when the word is found\n",
    "    for index, w in enumerate(words):\n",
    "        if w == word:\n",
    "            last_index = index  # Update the last_index\n",
    "    \n",
    "    # Return the index of the last occurrence (or -1 if not found)\n",
    "    return last_index\n",
    "\n",
    "# Example usage:\n",
    "input_string = \"This is an example sentence. This sentence contains the word 'example' twice, but we want the last occurrence.\"\n",
    "word_to_find = \"example\"\n",
    "\n",
    "result = find_last_occurrence(word_to_find, input_string)\n",
    "\n",
    "if result != -1:\n",
    "    print(f\"The last occurrence of '{word_to_find}' is at index {result}.\")\n",
    "else:\n",
    "    print(f\"'{word_to_find}' was not found in the input string.\")\n"
   ]
  },
  {
   "cell_type": "markdown",
   "id": "54746609-3582-404e-bba9-2a0d72feb8f3",
   "metadata": {},
   "source": [
    "###### 14. Split a string into a list of words."
   ]
  },
  {
   "cell_type": "code",
   "execution_count": 5,
   "id": "1f9effd9-2d29-4bff-80d6-ff755e312c07",
   "metadata": {},
   "outputs": [
    {
     "name": "stdout",
     "output_type": "stream",
     "text": [
      "['jadugar', 'aisa', 'jadu', 'kar']\n"
     ]
    }
   ],
   "source": [
    "input_string = 'jadugar aisa jadu kar'\n",
    "\n",
    "# Split the string into a list of words\n",
    "word_list = input_string.split()\n",
    "\n",
    "# Print the list of words\n",
    "print(word_list)"
   ]
  },
  {
   "cell_type": "markdown",
   "id": "f1a28e93-5ca0-44b5-8260-45e067b49969",
   "metadata": {},
   "source": [
    "###### 15. Join a list of words into a string."
   ]
  },
  {
   "cell_type": "code",
   "execution_count": 13,
   "id": "dda245f7-d083-4a5e-b792-6405810b4377",
   "metadata": {},
   "outputs": [
    {
     "name": "stdout",
     "output_type": "stream",
     "text": [
      "jadugar aisa jadu kar\n"
     ]
    }
   ],
   "source": [
    "# List of words\n",
    "list_of_words = ['jadugar', 'aisa', 'jadu', 'kar']\n",
    "\n",
    "# Initialize an empty string\n",
    "result_string = ''\n",
    "\n",
    "# Iterate through the list and concatenate the words\n",
    "for word in word_list:\n",
    "    result_string += word + ' '\n",
    "\n",
    "# Remove the trailing space (if necessary)\n",
    "result_string = result_string.rstrip()\n",
    "\n",
    "# Print the result\n",
    "print(result_string)"
   ]
  },
  {
   "cell_type": "markdown",
   "id": "5d1500d8-eb20-4b40-ab50-6015e89d348a",
   "metadata": {},
   "source": [
    "###### 16. Convert a string where words are separated by spaces to one where words are separated by underscores."
   ]
  },
  {
   "cell_type": "code",
   "execution_count": 15,
   "id": "ae0e9e49-132f-48c8-b04b-7cfeeb70fde9",
   "metadata": {},
   "outputs": [
    {
     "name": "stdout",
     "output_type": "stream",
     "text": [
      "jadugar_aisa_jadu_kar\n"
     ]
    }
   ],
   "source": [
    "list_of_words = ['jadugar', 'aisa', 'jadu', 'kar']\n",
    "\n",
    "# Initialize an empty string\n",
    "result_string = ''\n",
    "\n",
    "# Iterate through the list and concatenate the words\n",
    "for word in word_list:\n",
    "    result_string += word + '_'\n",
    "\n",
    "# Remove the trailing space (if necessary)\n",
    "result_string = result_string.rstrip('_')\n",
    "\n",
    "# Print the result\n",
    "print(result_string)"
   ]
  },
  {
   "cell_type": "markdown",
   "id": "e5575fda-98a4-488f-9433-487c5c8749c2",
   "metadata": {},
   "source": [
    "###### 17. Check if a string starts with a specific word or phrase."
   ]
  },
  {
   "cell_type": "code",
   "execution_count": 26,
   "id": "b2e0d276-db25-4ae1-9019-00e2545fc4da",
   "metadata": {},
   "outputs": [
    {
     "data": {
      "text/plain": [
       "'j'"
      ]
     },
     "execution_count": 26,
     "metadata": {},
     "output_type": "execute_result"
    }
   ],
   "source": [
    "input_string = ''\n",
    "\n",
    "\n",
    "# w = 'a'\n",
    "\n",
    "# if w in input_string:\n",
    "#     print('yes')\n",
    "# else:\n",
    "#     print('no')"
   ]
  },
  {
   "cell_type": "code",
   "execution_count": null,
   "id": "40337c48-a5c4-4e42-8abb-f79e7338f149",
   "metadata": {},
   "outputs": [],
   "source": []
  }
 ],
 "metadata": {
  "kernelspec": {
   "display_name": "Python 3 (ipykernel)",
   "language": "python",
   "name": "python3"
  },
  "language_info": {
   "codemirror_mode": {
    "name": "ipython",
    "version": 3
   },
   "file_extension": ".py",
   "mimetype": "text/x-python",
   "name": "python",
   "nbconvert_exporter": "python",
   "pygments_lexer": "ipython3",
   "version": "3.10.8"
  }
 },
 "nbformat": 4,
 "nbformat_minor": 5
}
